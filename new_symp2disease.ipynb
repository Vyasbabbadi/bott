{
 "cells": [
  {
   "cell_type": "code",
   "execution_count": 1,
   "metadata": {
    "colab": {
     "base_uri": "https://localhost:8080/"
    },
    "id": "Z7n__8gLD0Fi",
    "outputId": "13bd2be3-8345-44d7-d942-f85a54e4cc4e"
   },
   "outputs": [
    {
     "name": "stdout",
     "output_type": "stream",
     "text": [
      "Note: you may need to restart the kernel to use updated packages.\n"
     ]
    },
    {
     "name": "stderr",
     "output_type": "stream",
     "text": [
      "c:\\Users\\Babbadi_vyas\\AppData\\Local\\Programs\\Python\\Python312\\python.exe: No module named pip\n"
     ]
    }
   ],
   "source": [
    "pip install gradio"
   ]
  },
  {
   "cell_type": "markdown",
   "metadata": {
    "id": "pfzy8WdkkjVZ"
   },
   "source": [
    "# Import Libraries"
   ]
  },
  {
   "cell_type": "code",
   "execution_count": 2,
   "metadata": {
    "colab": {
     "base_uri": "https://localhost:8080/"
    },
    "id": "kw5ABr7GzgbD",
    "outputId": "99aae0c7-722e-4e79-e169-ab2f5b4a002e"
   },
   "outputs": [
    {
     "name": "stderr",
     "output_type": "stream",
     "text": [
      "[nltk_data] Downloading package punkt to\n",
      "[nltk_data]     C:\\Users\\Babbadi_vyas\\AppData\\Roaming\\nltk_data...\n",
      "[nltk_data]   Package punkt is already up-to-date!\n",
      "[nltk_data] Downloading package stopwords to\n",
      "[nltk_data]     C:\\Users\\Babbadi_vyas\\AppData\\Roaming\\nltk_data...\n",
      "[nltk_data]   Package stopwords is already up-to-date!\n"
     ]
    }
   ],
   "source": [
    "import pandas as pd\n",
    "import matplotlib.pyplot as plt\n",
    "from sklearn.model_selection import train_test_split\n",
    "import torch\n",
    "import nltk_utils"
   ]
  },
  {
   "cell_type": "markdown",
   "metadata": {
    "id": "Y1RoA7N_kpfX"
   },
   "source": [
    "# Data Exploration"
   ]
  },
  {
   "cell_type": "code",
   "execution_count": 3,
   "metadata": {
    "colab": {
     "base_uri": "https://localhost:8080/",
     "height": 206
    },
    "id": "4lDtHIIczxMh",
    "outputId": "fe1ccf94-39d6-4b90-991f-e64d6fc3cf47"
   },
   "outputs": [
    {
     "data": {
      "text/html": [
       "<div>\n",
       "<style scoped>\n",
       "    .dataframe tbody tr th:only-of-type {\n",
       "        vertical-align: middle;\n",
       "    }\n",
       "\n",
       "    .dataframe tbody tr th {\n",
       "        vertical-align: top;\n",
       "    }\n",
       "\n",
       "    .dataframe thead th {\n",
       "        text-align: right;\n",
       "    }\n",
       "</style>\n",
       "<table border=\"1\" class=\"dataframe\">\n",
       "  <thead>\n",
       "    <tr style=\"text-align: right;\">\n",
       "      <th></th>\n",
       "      <th>Unnamed: 0</th>\n",
       "      <th>label</th>\n",
       "      <th>text</th>\n",
       "    </tr>\n",
       "  </thead>\n",
       "  <tbody>\n",
       "    <tr>\n",
       "      <th>0</th>\n",
       "      <td>0</td>\n",
       "      <td>Psoriasis</td>\n",
       "      <td>I have been experiencing a skin rash on my arm...</td>\n",
       "    </tr>\n",
       "    <tr>\n",
       "      <th>1</th>\n",
       "      <td>1</td>\n",
       "      <td>Psoriasis</td>\n",
       "      <td>My skin has been peeling, especially on my kne...</td>\n",
       "    </tr>\n",
       "    <tr>\n",
       "      <th>2</th>\n",
       "      <td>2</td>\n",
       "      <td>Psoriasis</td>\n",
       "      <td>I have been experiencing joint pain in my fing...</td>\n",
       "    </tr>\n",
       "    <tr>\n",
       "      <th>3</th>\n",
       "      <td>3</td>\n",
       "      <td>Psoriasis</td>\n",
       "      <td>There is a silver like dusting on my skin, esp...</td>\n",
       "    </tr>\n",
       "    <tr>\n",
       "      <th>4</th>\n",
       "      <td>4</td>\n",
       "      <td>Psoriasis</td>\n",
       "      <td>My nails have small dents or pits in them, and...</td>\n",
       "    </tr>\n",
       "  </tbody>\n",
       "</table>\n",
       "</div>"
      ],
      "text/plain": [
       "   Unnamed: 0      label                                               text\n",
       "0           0  Psoriasis  I have been experiencing a skin rash on my arm...\n",
       "1           1  Psoriasis  My skin has been peeling, especially on my kne...\n",
       "2           2  Psoriasis  I have been experiencing joint pain in my fing...\n",
       "3           3  Psoriasis  There is a silver like dusting on my skin, esp...\n",
       "4           4  Psoriasis  My nails have small dents or pits in them, and..."
      ]
     },
     "execution_count": 3,
     "metadata": {},
     "output_type": "execute_result"
    }
   ],
   "source": [
    "# import data\n",
    "df= pd.read_csv('C:/Users/Babbadi_vyas/Documents/bot/Medical_chatbot/Symptom2Disease.csv')\n",
    "df.head()"
   ]
  },
  {
   "cell_type": "code",
   "execution_count": 4,
   "metadata": {
    "colab": {
     "base_uri": "https://localhost:8080/"
    },
    "id": "5FDdahbZz0Wf",
    "outputId": "3526cb7b-8e7c-49cd-a8a3-8f303b77b324"
   },
   "outputs": [
    {
     "name": "stdout",
     "output_type": "stream",
     "text": [
      "<class 'pandas.core.frame.DataFrame'>\n",
      "RangeIndex: 1200 entries, 0 to 1199\n",
      "Data columns (total 3 columns):\n",
      " #   Column      Non-Null Count  Dtype \n",
      "---  ------      --------------  ----- \n",
      " 0   Unnamed: 0  1200 non-null   int64 \n",
      " 1   label       1200 non-null   object\n",
      " 2   text        1200 non-null   object\n",
      "dtypes: int64(1), object(2)\n",
      "memory usage: 28.3+ KB\n"
     ]
    }
   ],
   "source": [
    "df.info()"
   ]
  },
  {
   "cell_type": "code",
   "execution_count": 5,
   "metadata": {
    "colab": {
     "base_uri": "https://localhost:8080/"
    },
    "id": "XODx9gyQz3dy",
    "outputId": "f1a9012f-e656-4a3d-d3ca-4283c139d635"
   },
   "outputs": [
    {
     "data": {
      "text/plain": [
       "24"
      ]
     },
     "execution_count": 5,
     "metadata": {},
     "output_type": "execute_result"
    }
   ],
   "source": [
    "# Check for data classes\n",
    "df['label'].nunique()"
   ]
  },
  {
   "cell_type": "code",
   "execution_count": 6,
   "metadata": {
    "colab": {
     "base_uri": "https://localhost:8080/"
    },
    "id": "RicfgpBfz62x",
    "outputId": "99a3746f-9084-429b-8302-73b11a7d8c41"
   },
   "outputs": [
    {
     "name": "stdout",
     "output_type": "stream",
     "text": [
      "[array(['Psoriasis', 'Varicose Veins', 'Typhoid', 'Chicken pox',\n",
      "       'Impetigo', 'Dengue', 'Fungal infection', 'Common Cold',\n",
      "       'Pneumonia', 'Dimorphic Hemorrhoids', 'Arthritis', 'Acne',\n",
      "       'Bronchial Asthma', 'Hypertension', 'Migraine',\n",
      "       'Cervical spondylosis', 'Jaundice', 'Malaria',\n",
      "       'urinary tract infection', 'allergy',\n",
      "       'gastroesophageal reflux disease', 'drug reaction',\n",
      "       'peptic ulcer disease', 'diabetes'], dtype=object)]\n"
     ]
    }
   ],
   "source": [
    "a= [df['label'].unique()]\n",
    "print(a)"
   ]
  },
  {
   "cell_type": "code",
   "execution_count": 7,
   "metadata": {
    "id": "3lMkNCJjz-TK"
   },
   "outputs": [],
   "source": [
    "# sort target data\n",
    "target=['Psoriasis', 'Varicose Veins', 'Typhoid', 'Chicken pox',\n",
    "       'Impetigo', 'Dengue', 'Fungal infection', 'Common Cold',\n",
    "       'Pneumonia', 'Dimorphic Hemorrhoids', 'Arthritis', 'Acne',\n",
    "       'Bronchial Asthma', 'Hypertension', 'Migraine',\n",
    "       'Cervical spondylosis', 'Jaundice', 'Malaria',\n",
    "       'urinary tract infection', 'allergy',\n",
    "       'gastroesophageal reflux disease', 'drug reaction',\n",
    "       'peptic ulcer disease', 'diabetes']\n",
    "real_target= sorted(target)"
   ]
  },
  {
   "cell_type": "code",
   "execution_count": 8,
   "metadata": {
    "colab": {
     "base_uri": "https://localhost:8080/"
    },
    "id": "Fy-8tI6Lvl8L",
    "outputId": "c606a4d7-4462-43ec-b417-e2ef437e29a1"
   },
   "outputs": [
    {
     "data": {
      "text/plain": [
       "['Acne',\n",
       " 'Arthritis',\n",
       " 'Bronchial Asthma',\n",
       " 'Cervical spondylosis',\n",
       " 'Chicken pox',\n",
       " 'Common Cold',\n",
       " 'Dengue',\n",
       " 'Dimorphic Hemorrhoids',\n",
       " 'Fungal infection',\n",
       " 'Hypertension',\n",
       " 'Impetigo',\n",
       " 'Jaundice',\n",
       " 'Malaria',\n",
       " 'Migraine',\n",
       " 'Pneumonia',\n",
       " 'Psoriasis',\n",
       " 'Typhoid',\n",
       " 'Varicose Veins',\n",
       " 'allergy',\n",
       " 'diabetes',\n",
       " 'drug reaction',\n",
       " 'gastroesophageal reflux disease',\n",
       " 'peptic ulcer disease',\n",
       " 'urinary tract infection']"
      ]
     },
     "execution_count": 8,
     "metadata": {},
     "output_type": "execute_result"
    }
   ],
   "source": [
    "real_target"
   ]
  },
  {
   "cell_type": "code",
   "execution_count": 9,
   "metadata": {
    "colab": {
     "base_uri": "https://localhost:8080/"
    },
    "id": "zXKfP11m0CfF",
    "outputId": "14a5a06f-db7d-42f8-c245-dc2847e30b21"
   },
   "outputs": [
    {
     "data": {
      "text/plain": [
       "{0: 'Acne',\n",
       " 1: 'Arthritis',\n",
       " 2: 'Bronchial Asthma',\n",
       " 3: 'Cervical spondylosis',\n",
       " 4: 'Chicken pox',\n",
       " 5: 'Common Cold',\n",
       " 6: 'Dengue',\n",
       " 7: 'Dimorphic Hemorrhoids',\n",
       " 8: 'Fungal infection',\n",
       " 9: 'Hypertension',\n",
       " 10: 'Impetigo',\n",
       " 11: 'Jaundice',\n",
       " 12: 'Malaria',\n",
       " 13: 'Migraine',\n",
       " 14: 'Pneumonia',\n",
       " 15: 'Psoriasis',\n",
       " 16: 'Typhoid',\n",
       " 17: 'Varicose Veins',\n",
       " 18: 'allergy',\n",
       " 19: 'diabetes',\n",
       " 20: 'drug reaction',\n",
       " 21: 'gastroesophageal reflux disease',\n",
       " 22: 'peptic ulcer disease',\n",
       " 23: 'urinary tract infection'}"
      ]
     },
     "execution_count": 9,
     "metadata": {},
     "output_type": "execute_result"
    }
   ],
   "source": [
    "target_dict= {i:j for i,j in enumerate(sorted(target))}\n",
    "target_dict"
   ]
  },
  {
   "cell_type": "code",
   "execution_count": 10,
   "metadata": {
    "id": "_jGNr54w0MG6"
   },
   "outputs": [
    {
     "name": "stderr",
     "output_type": "stream",
     "text": [
      "C:\\Users\\Babbadi_vyas\\AppData\\Local\\Temp\\ipykernel_17948\\4057475892.py:1: FutureWarning: Downcasting behavior in `replace` is deprecated and will be removed in a future version. To retain the old behavior, explicitly call `result.infer_objects(copy=False)`. To opt-in to the future behavior, set `pd.set_option('future.no_silent_downcasting', True)`\n",
      "  df['label']= df['label'].replace({j:i for i,j in enumerate(sorted(target))})\n"
     ]
    }
   ],
   "source": [
    "df['label']= df['label'].replace({j:i for i,j in enumerate(sorted(target))})"
   ]
  },
  {
   "cell_type": "code",
   "execution_count": 11,
   "metadata": {
    "colab": {
     "base_uri": "https://localhost:8080/",
     "height": 206
    },
    "id": "dZWf1flT0bBZ",
    "outputId": "8ec9dfe3-3fd1-46e7-da3b-621ee01509e6"
   },
   "outputs": [
    {
     "data": {
      "text/html": [
       "<div>\n",
       "<style scoped>\n",
       "    .dataframe tbody tr th:only-of-type {\n",
       "        vertical-align: middle;\n",
       "    }\n",
       "\n",
       "    .dataframe tbody tr th {\n",
       "        vertical-align: top;\n",
       "    }\n",
       "\n",
       "    .dataframe thead th {\n",
       "        text-align: right;\n",
       "    }\n",
       "</style>\n",
       "<table border=\"1\" class=\"dataframe\">\n",
       "  <thead>\n",
       "    <tr style=\"text-align: right;\">\n",
       "      <th></th>\n",
       "      <th>Unnamed: 0</th>\n",
       "      <th>label</th>\n",
       "      <th>text</th>\n",
       "    </tr>\n",
       "  </thead>\n",
       "  <tbody>\n",
       "    <tr>\n",
       "      <th>0</th>\n",
       "      <td>0</td>\n",
       "      <td>15</td>\n",
       "      <td>I have been experiencing a skin rash on my arm...</td>\n",
       "    </tr>\n",
       "    <tr>\n",
       "      <th>1</th>\n",
       "      <td>1</td>\n",
       "      <td>15</td>\n",
       "      <td>My skin has been peeling, especially on my kne...</td>\n",
       "    </tr>\n",
       "    <tr>\n",
       "      <th>2</th>\n",
       "      <td>2</td>\n",
       "      <td>15</td>\n",
       "      <td>I have been experiencing joint pain in my fing...</td>\n",
       "    </tr>\n",
       "    <tr>\n",
       "      <th>3</th>\n",
       "      <td>3</td>\n",
       "      <td>15</td>\n",
       "      <td>There is a silver like dusting on my skin, esp...</td>\n",
       "    </tr>\n",
       "    <tr>\n",
       "      <th>4</th>\n",
       "      <td>4</td>\n",
       "      <td>15</td>\n",
       "      <td>My nails have small dents or pits in them, and...</td>\n",
       "    </tr>\n",
       "  </tbody>\n",
       "</table>\n",
       "</div>"
      ],
      "text/plain": [
       "   Unnamed: 0  label                                               text\n",
       "0           0     15  I have been experiencing a skin rash on my arm...\n",
       "1           1     15  My skin has been peeling, especially on my kne...\n",
       "2           2     15  I have been experiencing joint pain in my fing...\n",
       "3           3     15  There is a silver like dusting on my skin, esp...\n",
       "4           4     15  My nails have small dents or pits in them, and..."
      ]
     },
     "execution_count": 11,
     "metadata": {},
     "output_type": "execute_result"
    }
   ],
   "source": [
    "df.head()"
   ]
  },
  {
   "cell_type": "code",
   "execution_count": 12,
   "metadata": {
    "id": "J4rvU7zn0eTJ"
   },
   "outputs": [],
   "source": [
    "df.drop('Unnamed: 0', axis= 1, inplace= True)"
   ]
  },
  {
   "cell_type": "code",
   "execution_count": 13,
   "metadata": {
    "colab": {
     "base_uri": "https://localhost:8080/"
    },
    "id": "wYhQdWRW0jwy",
    "outputId": "72434333-517f-4271-b868-f8296074df08"
   },
   "outputs": [
    {
     "data": {
      "text/plain": [
       "np.int64(47)"
      ]
     },
     "execution_count": 13,
     "metadata": {},
     "output_type": "execute_result"
    }
   ],
   "source": [
    "df.duplicated().sum()"
   ]
  },
  {
   "cell_type": "code",
   "execution_count": 14,
   "metadata": {
    "colab": {
     "base_uri": "https://localhost:8080/",
     "height": 1000
    },
    "id": "WTUzzKbb0ogZ",
    "outputId": "4f7b0388-ba04-4629-ec50-358383d97306"
   },
   "outputs": [
    {
     "data": {
      "text/html": [
       "<div>\n",
       "<style scoped>\n",
       "    .dataframe tbody tr th:only-of-type {\n",
       "        vertical-align: middle;\n",
       "    }\n",
       "\n",
       "    .dataframe tbody tr th {\n",
       "        vertical-align: top;\n",
       "    }\n",
       "\n",
       "    .dataframe thead th {\n",
       "        text-align: right;\n",
       "    }\n",
       "</style>\n",
       "<table border=\"1\" class=\"dataframe\">\n",
       "  <thead>\n",
       "    <tr style=\"text-align: right;\">\n",
       "      <th></th>\n",
       "      <th>label</th>\n",
       "      <th>text</th>\n",
       "    </tr>\n",
       "  </thead>\n",
       "  <tbody>\n",
       "    <tr>\n",
       "      <th>163</th>\n",
       "      <td>4</td>\n",
       "      <td>I'm feeling fatigued and have no energy. I can...</td>\n",
       "    </tr>\n",
       "    <tr>\n",
       "      <th>387</th>\n",
       "      <td>5</td>\n",
       "      <td>I've been quite exhausted and ill. My throat h...</td>\n",
       "    </tr>\n",
       "    <tr>\n",
       "      <th>430</th>\n",
       "      <td>14</td>\n",
       "      <td>I have a really high fever, and I have problem...</td>\n",
       "    </tr>\n",
       "    <tr>\n",
       "      <th>433</th>\n",
       "      <td>14</td>\n",
       "      <td>I'm having a hard time breathing and I feel re...</td>\n",
       "    </tr>\n",
       "    <tr>\n",
       "      <th>438</th>\n",
       "      <td>14</td>\n",
       "      <td>Lately I've been experiencing chills, fatigue,...</td>\n",
       "    </tr>\n",
       "    <tr>\n",
       "      <th>469</th>\n",
       "      <td>7</td>\n",
       "      <td>I've been constipated and it's really hard to ...</td>\n",
       "    </tr>\n",
       "    <tr>\n",
       "      <th>470</th>\n",
       "      <td>7</td>\n",
       "      <td>Since I've been constipated, using the restroo...</td>\n",
       "    </tr>\n",
       "    <tr>\n",
       "      <th>471</th>\n",
       "      <td>7</td>\n",
       "      <td>I've been constipated and it's really hard to ...</td>\n",
       "    </tr>\n",
       "    <tr>\n",
       "      <th>487</th>\n",
       "      <td>7</td>\n",
       "      <td>Lately I've been experiencing constipation and...</td>\n",
       "    </tr>\n",
       "    <tr>\n",
       "      <th>489</th>\n",
       "      <td>7</td>\n",
       "      <td>I've recently been suffering from constipation...</td>\n",
       "    </tr>\n",
       "    <tr>\n",
       "      <th>490</th>\n",
       "      <td>7</td>\n",
       "      <td>I've been experiencing a lot of bowel movement...</td>\n",
       "    </tr>\n",
       "    <tr>\n",
       "      <th>491</th>\n",
       "      <td>7</td>\n",
       "      <td>I'm having a lot of trouble with my bowel move...</td>\n",
       "    </tr>\n",
       "    <tr>\n",
       "      <th>492</th>\n",
       "      <td>7</td>\n",
       "      <td>My bowel motions have been really difficult fo...</td>\n",
       "    </tr>\n",
       "    <tr>\n",
       "      <th>493</th>\n",
       "      <td>7</td>\n",
       "      <td>I've been experiencing a lot of problems with ...</td>\n",
       "    </tr>\n",
       "    <tr>\n",
       "      <th>520</th>\n",
       "      <td>1</td>\n",
       "      <td>I've been feeling really weak in my muscles an...</td>\n",
       "    </tr>\n",
       "    <tr>\n",
       "      <th>521</th>\n",
       "      <td>1</td>\n",
       "      <td>My muscles have been feeling really weak, and ...</td>\n",
       "    </tr>\n",
       "    <tr>\n",
       "      <th>526</th>\n",
       "      <td>1</td>\n",
       "      <td>I've been experiencing stiffness and weakness ...</td>\n",
       "    </tr>\n",
       "    <tr>\n",
       "      <th>527</th>\n",
       "      <td>1</td>\n",
       "      <td>I've been feeling really weak in my muscles an...</td>\n",
       "    </tr>\n",
       "    <tr>\n",
       "      <th>563</th>\n",
       "      <td>0</td>\n",
       "      <td>A nasty rash has just appeared on my skin. Bla...</td>\n",
       "    </tr>\n",
       "    <tr>\n",
       "      <th>573</th>\n",
       "      <td>0</td>\n",
       "      <td>I just developed a really nasty rash on my ski...</td>\n",
       "    </tr>\n",
       "    <tr>\n",
       "      <th>574</th>\n",
       "      <td>0</td>\n",
       "      <td>I've been dealing with a really nasty rash on ...</td>\n",
       "    </tr>\n",
       "    <tr>\n",
       "      <th>580</th>\n",
       "      <td>0</td>\n",
       "      <td>A skin rash with several pus-filled pimples an...</td>\n",
       "    </tr>\n",
       "    <tr>\n",
       "      <th>647</th>\n",
       "      <td>2</td>\n",
       "      <td>I've been struggling with fatigue and a consta...</td>\n",
       "    </tr>\n",
       "    <tr>\n",
       "      <th>706</th>\n",
       "      <td>13</td>\n",
       "      <td>I've been facing visual disruptions, seeing th...</td>\n",
       "    </tr>\n",
       "    <tr>\n",
       "      <th>738</th>\n",
       "      <td>13</td>\n",
       "      <td>Along with excessive appetite, a stiff neck, h...</td>\n",
       "    </tr>\n",
       "    <tr>\n",
       "      <th>748</th>\n",
       "      <td>13</td>\n",
       "      <td>I have been experiencing acidity, indigestion,...</td>\n",
       "    </tr>\n",
       "    <tr>\n",
       "      <th>778</th>\n",
       "      <td>3</td>\n",
       "      <td>Back pain, a persistent cough, and numbness in...</td>\n",
       "    </tr>\n",
       "    <tr>\n",
       "      <th>821</th>\n",
       "      <td>11</td>\n",
       "      <td>I've been feeling extremely scratchy, sick, an...</td>\n",
       "    </tr>\n",
       "    <tr>\n",
       "      <th>822</th>\n",
       "      <td>11</td>\n",
       "      <td>I've been feeling extremely scratchy, sick, an...</td>\n",
       "    </tr>\n",
       "    <tr>\n",
       "      <th>834</th>\n",
       "      <td>11</td>\n",
       "      <td>I've been exhausted and experiencing nausea an...</td>\n",
       "    </tr>\n",
       "    <tr>\n",
       "      <th>835</th>\n",
       "      <td>11</td>\n",
       "      <td>I have been suffering from itching, vomiting, ...</td>\n",
       "    </tr>\n",
       "    <tr>\n",
       "      <th>836</th>\n",
       "      <td>11</td>\n",
       "      <td>I've been feeling scratchy, sick, and worn out...</td>\n",
       "    </tr>\n",
       "    <tr>\n",
       "      <th>837</th>\n",
       "      <td>11</td>\n",
       "      <td>The itch, the nausea, and the weariness have b...</td>\n",
       "    </tr>\n",
       "    <tr>\n",
       "      <th>838</th>\n",
       "      <td>11</td>\n",
       "      <td>I have been experiencing intense itching, vomi...</td>\n",
       "    </tr>\n",
       "    <tr>\n",
       "      <th>839</th>\n",
       "      <td>11</td>\n",
       "      <td>I've been feeling extremely scratchy, sick, an...</td>\n",
       "    </tr>\n",
       "    <tr>\n",
       "      <th>840</th>\n",
       "      <td>11</td>\n",
       "      <td>I've felt really scratchy, nauseated, and worn...</td>\n",
       "    </tr>\n",
       "    <tr>\n",
       "      <th>841</th>\n",
       "      <td>11</td>\n",
       "      <td>I have been having severe itching, vomiting, a...</td>\n",
       "    </tr>\n",
       "    <tr>\n",
       "      <th>842</th>\n",
       "      <td>11</td>\n",
       "      <td>I've been feeling really scratchy, dizzy, and ...</td>\n",
       "    </tr>\n",
       "    <tr>\n",
       "      <th>843</th>\n",
       "      <td>11</td>\n",
       "      <td>I've been experiencing intense itchiness, naus...</td>\n",
       "    </tr>\n",
       "    <tr>\n",
       "      <th>852</th>\n",
       "      <td>12</td>\n",
       "      <td>I've had a high temperature, vomiting, chills,...</td>\n",
       "    </tr>\n",
       "    <tr>\n",
       "      <th>859</th>\n",
       "      <td>12</td>\n",
       "      <td>I've been experiencing severe body itchiness, ...</td>\n",
       "    </tr>\n",
       "    <tr>\n",
       "      <th>866</th>\n",
       "      <td>12</td>\n",
       "      <td>I have a high fever, severe itching, chills, a...</td>\n",
       "    </tr>\n",
       "    <tr>\n",
       "      <th>867</th>\n",
       "      <td>12</td>\n",
       "      <td>I have a high temperature, vomiting, chills, a...</td>\n",
       "    </tr>\n",
       "    <tr>\n",
       "      <th>873</th>\n",
       "      <td>12</td>\n",
       "      <td>I've had a high temperature, vomiting, chills,...</td>\n",
       "    </tr>\n",
       "    <tr>\n",
       "      <th>894</th>\n",
       "      <td>12</td>\n",
       "      <td>I have a high fever, severe itching, chills, a...</td>\n",
       "    </tr>\n",
       "    <tr>\n",
       "      <th>1048</th>\n",
       "      <td>21</td>\n",
       "      <td>Even when I don't have anything acidic in my s...</td>\n",
       "    </tr>\n",
       "    <tr>\n",
       "      <th>1049</th>\n",
       "      <td>21</td>\n",
       "      <td>I'm not in the mood to eat, and swallowing is ...</td>\n",
       "    </tr>\n",
       "  </tbody>\n",
       "</table>\n",
       "</div>"
      ],
      "text/plain": [
       "      label                                               text\n",
       "163       4  I'm feeling fatigued and have no energy. I can...\n",
       "387       5  I've been quite exhausted and ill. My throat h...\n",
       "430      14  I have a really high fever, and I have problem...\n",
       "433      14  I'm having a hard time breathing and I feel re...\n",
       "438      14  Lately I've been experiencing chills, fatigue,...\n",
       "469       7  I've been constipated and it's really hard to ...\n",
       "470       7  Since I've been constipated, using the restroo...\n",
       "471       7  I've been constipated and it's really hard to ...\n",
       "487       7  Lately I've been experiencing constipation and...\n",
       "489       7  I've recently been suffering from constipation...\n",
       "490       7  I've been experiencing a lot of bowel movement...\n",
       "491       7  I'm having a lot of trouble with my bowel move...\n",
       "492       7  My bowel motions have been really difficult fo...\n",
       "493       7  I've been experiencing a lot of problems with ...\n",
       "520       1  I've been feeling really weak in my muscles an...\n",
       "521       1  My muscles have been feeling really weak, and ...\n",
       "526       1  I've been experiencing stiffness and weakness ...\n",
       "527       1  I've been feeling really weak in my muscles an...\n",
       "563       0  A nasty rash has just appeared on my skin. Bla...\n",
       "573       0  I just developed a really nasty rash on my ski...\n",
       "574       0  I've been dealing with a really nasty rash on ...\n",
       "580       0  A skin rash with several pus-filled pimples an...\n",
       "647       2  I've been struggling with fatigue and a consta...\n",
       "706      13  I've been facing visual disruptions, seeing th...\n",
       "738      13  Along with excessive appetite, a stiff neck, h...\n",
       "748      13  I have been experiencing acidity, indigestion,...\n",
       "778       3  Back pain, a persistent cough, and numbness in...\n",
       "821      11  I've been feeling extremely scratchy, sick, an...\n",
       "822      11  I've been feeling extremely scratchy, sick, an...\n",
       "834      11  I've been exhausted and experiencing nausea an...\n",
       "835      11  I have been suffering from itching, vomiting, ...\n",
       "836      11  I've been feeling scratchy, sick, and worn out...\n",
       "837      11  The itch, the nausea, and the weariness have b...\n",
       "838      11  I have been experiencing intense itching, vomi...\n",
       "839      11  I've been feeling extremely scratchy, sick, an...\n",
       "840      11  I've felt really scratchy, nauseated, and worn...\n",
       "841      11  I have been having severe itching, vomiting, a...\n",
       "842      11  I've been feeling really scratchy, dizzy, and ...\n",
       "843      11  I've been experiencing intense itchiness, naus...\n",
       "852      12  I've had a high temperature, vomiting, chills,...\n",
       "859      12  I've been experiencing severe body itchiness, ...\n",
       "866      12  I have a high fever, severe itching, chills, a...\n",
       "867      12  I have a high temperature, vomiting, chills, a...\n",
       "873      12  I've had a high temperature, vomiting, chills,...\n",
       "894      12  I have a high fever, severe itching, chills, a...\n",
       "1048     21  Even when I don't have anything acidic in my s...\n",
       "1049     21  I'm not in the mood to eat, and swallowing is ..."
      ]
     },
     "execution_count": 14,
     "metadata": {},
     "output_type": "execute_result"
    }
   ],
   "source": [
    "df[df.duplicated]"
   ]
  },
  {
   "cell_type": "code",
   "execution_count": 15,
   "metadata": {
    "id": "LnR_tvss0riM"
   },
   "outputs": [],
   "source": [
    "df.drop_duplicates(inplace= True)"
   ]
  },
  {
   "cell_type": "code",
   "execution_count": 16,
   "metadata": {
    "colab": {
     "base_uri": "https://localhost:8080/"
    },
    "id": "P7Qv1XLn0v8g",
    "outputId": "0061f0c5-df45-48fe-becd-cac01a2027b0"
   },
   "outputs": [
    {
     "data": {
      "text/plain": [
       "label\n",
       "15    50\n",
       "17    50\n",
       "16    50\n",
       "10    50\n",
       "8     50\n",
       "6     50\n",
       "22    50\n",
       "9     50\n",
       "20    50\n",
       "18    50\n",
       "23    50\n",
       "19    50\n",
       "5     49\n",
       "4     49\n",
       "3     49\n",
       "2     49\n",
       "21    48\n",
       "14    47\n",
       "13    47\n",
       "1     46\n",
       "0     46\n",
       "12    44\n",
       "7     41\n",
       "11    38\n",
       "Name: count, dtype: int64"
      ]
     },
     "execution_count": 16,
     "metadata": {},
     "output_type": "execute_result"
    }
   ],
   "source": [
    "df['label'].value_counts()"
   ]
  },
  {
   "cell_type": "code",
   "execution_count": 17,
   "metadata": {
    "id": "P6R_UB3p0zLG"
   },
   "outputs": [],
   "source": [
    "train_data, test_data= train_test_split(df, test_size=0.15, random_state=42 )"
   ]
  },
  {
   "cell_type": "code",
   "execution_count": 18,
   "metadata": {
    "colab": {
     "base_uri": "https://localhost:8080/"
    },
    "id": "SNi-gm0Z03Z6",
    "outputId": "a91a0bc5-00dc-450f-cb37-b821aec82296"
   },
   "outputs": [
    {
     "name": "stdout",
     "output_type": "stream",
     "text": [
      "<class 'pandas.core.frame.DataFrame'>\n",
      "Index: 980 entries, 618 to 1173\n",
      "Data columns (total 2 columns):\n",
      " #   Column  Non-Null Count  Dtype \n",
      "---  ------  --------------  ----- \n",
      " 0   label   980 non-null    int64 \n",
      " 1   text    980 non-null    object\n",
      "dtypes: int64(1), object(1)\n",
      "memory usage: 23.0+ KB\n"
     ]
    }
   ],
   "source": [
    "train_data.info()"
   ]
  },
  {
   "cell_type": "code",
   "execution_count": 19,
   "metadata": {
    "colab": {
     "base_uri": "https://localhost:8080/"
    },
    "id": "QC_xSoD51CTL",
    "outputId": "5a15326a-ba4c-4896-b428-7e175a1a67c3"
   },
   "outputs": [
    {
     "name": "stdout",
     "output_type": "stream",
     "text": [
      "<class 'pandas.core.frame.DataFrame'>\n",
      "Index: 173 entries, 794 to 139\n",
      "Data columns (total 2 columns):\n",
      " #   Column  Non-Null Count  Dtype \n",
      "---  ------  --------------  ----- \n",
      " 0   label   173 non-null    int64 \n",
      " 1   text    173 non-null    object\n",
      "dtypes: int64(1), object(1)\n",
      "memory usage: 4.1+ KB\n"
     ]
    }
   ],
   "source": [
    "test_data.info()"
   ]
  },
  {
   "cell_type": "code",
   "execution_count": 20,
   "metadata": {
    "colab": {
     "base_uri": "https://localhost:8080/"
    },
    "id": "4FaxbciD1El2",
    "outputId": "69423719-3cab-4122-cc7b-5abfdeddde49"
   },
   "outputs": [
    {
     "data": {
      "text/plain": [
       "label\n",
       "0     37\n",
       "1     41\n",
       "2     41\n",
       "3     40\n",
       "4     44\n",
       "5     42\n",
       "6     41\n",
       "7     32\n",
       "8     40\n",
       "9     43\n",
       "10    45\n",
       "11    32\n",
       "12    40\n",
       "13    41\n",
       "14    37\n",
       "15    45\n",
       "16    41\n",
       "17    41\n",
       "18    40\n",
       "19    46\n",
       "20    44\n",
       "21    38\n",
       "22    45\n",
       "23    44\n",
       "Name: count, dtype: int64"
      ]
     },
     "execution_count": 20,
     "metadata": {},
     "output_type": "execute_result"
    }
   ],
   "source": [
    "train_data['label'].value_counts().sort_index()"
   ]
  },
  {
   "cell_type": "code",
   "execution_count": 21,
   "metadata": {
    "colab": {
     "base_uri": "https://localhost:8080/"
    },
    "id": "2y54iXig1LqJ",
    "outputId": "ca536083-4ad4-4ba0-838f-3759eca9e552"
   },
   "outputs": [
    {
     "data": {
      "text/plain": [
       "label\n",
       "0      9\n",
       "1      5\n",
       "2      8\n",
       "3      9\n",
       "4      5\n",
       "5      7\n",
       "6      9\n",
       "7      9\n",
       "8     10\n",
       "9      7\n",
       "10     5\n",
       "11     6\n",
       "12     4\n",
       "13     6\n",
       "14    10\n",
       "15     5\n",
       "16     9\n",
       "17     9\n",
       "18    10\n",
       "19     4\n",
       "20     6\n",
       "21    10\n",
       "22     5\n",
       "23     6\n",
       "Name: count, dtype: int64"
      ]
     },
     "execution_count": 21,
     "metadata": {},
     "output_type": "execute_result"
    }
   ],
   "source": [
    "test_data['label'].value_counts().sort_index()"
   ]
  },
  {
   "cell_type": "markdown",
   "metadata": {
    "id": "pmViJWyClSEL"
   },
   "source": [
    "## Convert text to vectors"
   ]
  },
  {
   "cell_type": "code",
   "execution_count": 22,
   "metadata": {
    "id": "P6bbmklS1q-q"
   },
   "outputs": [],
   "source": [
    "vectorizer= nltk_utils.vectorizer()"
   ]
  },
  {
   "cell_type": "code",
   "execution_count": 23,
   "metadata": {
    "colab": {
     "base_uri": "https://localhost:8080/",
     "height": 271
    },
    "id": "5wCPe7oI2I8K",
    "outputId": "0946fb17-7aa2-4dc9-9014-4717e2d3bfb7"
   },
   "outputs": [
    {
     "name": "stderr",
     "output_type": "stream",
     "text": [
      "c:\\Users\\Babbadi_vyas\\AppData\\Local\\Programs\\Python\\Python312\\Lib\\site-packages\\sklearn\\feature_extraction\\text.py:523: UserWarning: The parameter 'token_pattern' will not be used since 'tokenizer' is not None'\n",
      "  warnings.warn(\n",
      "c:\\Users\\Babbadi_vyas\\AppData\\Local\\Programs\\Python\\Python312\\Lib\\site-packages\\sklearn\\feature_extraction\\text.py:408: UserWarning: Your stop_words may be inconsistent with your preprocessing. Tokenizing the stop words generated tokens [\"'d\", \"'s\", 'abov', 'ani', 'becaus', 'befor', 'could', 'doe', 'dure', 'might', 'must', \"n't\", 'need', 'onc', 'onli', 'ourselv', 'sha', 'themselv', 'veri', 'whi', 'wo', 'would', 'yourselv'] not in stop_words.\n",
      "  warnings.warn(\n"
     ]
    },
    {
     "data": {
      "text/html": [
       "<style>#sk-container-id-1 {\n",
       "  /* Definition of color scheme common for light and dark mode */\n",
       "  --sklearn-color-text: black;\n",
       "  --sklearn-color-line: gray;\n",
       "  /* Definition of color scheme for unfitted estimators */\n",
       "  --sklearn-color-unfitted-level-0: #fff5e6;\n",
       "  --sklearn-color-unfitted-level-1: #f6e4d2;\n",
       "  --sklearn-color-unfitted-level-2: #ffe0b3;\n",
       "  --sklearn-color-unfitted-level-3: chocolate;\n",
       "  /* Definition of color scheme for fitted estimators */\n",
       "  --sklearn-color-fitted-level-0: #f0f8ff;\n",
       "  --sklearn-color-fitted-level-1: #d4ebff;\n",
       "  --sklearn-color-fitted-level-2: #b3dbfd;\n",
       "  --sklearn-color-fitted-level-3: cornflowerblue;\n",
       "\n",
       "  /* Specific color for light theme */\n",
       "  --sklearn-color-text-on-default-background: var(--sg-text-color, var(--theme-code-foreground, var(--jp-content-font-color1, black)));\n",
       "  --sklearn-color-background: var(--sg-background-color, var(--theme-background, var(--jp-layout-color0, white)));\n",
       "  --sklearn-color-border-box: var(--sg-text-color, var(--theme-code-foreground, var(--jp-content-font-color1, black)));\n",
       "  --sklearn-color-icon: #696969;\n",
       "\n",
       "  @media (prefers-color-scheme: dark) {\n",
       "    /* Redefinition of color scheme for dark theme */\n",
       "    --sklearn-color-text-on-default-background: var(--sg-text-color, var(--theme-code-foreground, var(--jp-content-font-color1, white)));\n",
       "    --sklearn-color-background: var(--sg-background-color, var(--theme-background, var(--jp-layout-color0, #111)));\n",
       "    --sklearn-color-border-box: var(--sg-text-color, var(--theme-code-foreground, var(--jp-content-font-color1, white)));\n",
       "    --sklearn-color-icon: #878787;\n",
       "  }\n",
       "}\n",
       "\n",
       "#sk-container-id-1 {\n",
       "  color: var(--sklearn-color-text);\n",
       "}\n",
       "\n",
       "#sk-container-id-1 pre {\n",
       "  padding: 0;\n",
       "}\n",
       "\n",
       "#sk-container-id-1 input.sk-hidden--visually {\n",
       "  border: 0;\n",
       "  clip: rect(1px 1px 1px 1px);\n",
       "  clip: rect(1px, 1px, 1px, 1px);\n",
       "  height: 1px;\n",
       "  margin: -1px;\n",
       "  overflow: hidden;\n",
       "  padding: 0;\n",
       "  position: absolute;\n",
       "  width: 1px;\n",
       "}\n",
       "\n",
       "#sk-container-id-1 div.sk-dashed-wrapped {\n",
       "  border: 1px dashed var(--sklearn-color-line);\n",
       "  margin: 0 0.4em 0.5em 0.4em;\n",
       "  box-sizing: border-box;\n",
       "  padding-bottom: 0.4em;\n",
       "  background-color: var(--sklearn-color-background);\n",
       "}\n",
       "\n",
       "#sk-container-id-1 div.sk-container {\n",
       "  /* jupyter's `normalize.less` sets `[hidden] { display: none; }`\n",
       "     but bootstrap.min.css set `[hidden] { display: none !important; }`\n",
       "     so we also need the `!important` here to be able to override the\n",
       "     default hidden behavior on the sphinx rendered scikit-learn.org.\n",
       "     See: https://github.com/scikit-learn/scikit-learn/issues/21755 */\n",
       "  display: inline-block !important;\n",
       "  position: relative;\n",
       "}\n",
       "\n",
       "#sk-container-id-1 div.sk-text-repr-fallback {\n",
       "  display: none;\n",
       "}\n",
       "\n",
       "div.sk-parallel-item,\n",
       "div.sk-serial,\n",
       "div.sk-item {\n",
       "  /* draw centered vertical line to link estimators */\n",
       "  background-image: linear-gradient(var(--sklearn-color-text-on-default-background), var(--sklearn-color-text-on-default-background));\n",
       "  background-size: 2px 100%;\n",
       "  background-repeat: no-repeat;\n",
       "  background-position: center center;\n",
       "}\n",
       "\n",
       "/* Parallel-specific style estimator block */\n",
       "\n",
       "#sk-container-id-1 div.sk-parallel-item::after {\n",
       "  content: \"\";\n",
       "  width: 100%;\n",
       "  border-bottom: 2px solid var(--sklearn-color-text-on-default-background);\n",
       "  flex-grow: 1;\n",
       "}\n",
       "\n",
       "#sk-container-id-1 div.sk-parallel {\n",
       "  display: flex;\n",
       "  align-items: stretch;\n",
       "  justify-content: center;\n",
       "  background-color: var(--sklearn-color-background);\n",
       "  position: relative;\n",
       "}\n",
       "\n",
       "#sk-container-id-1 div.sk-parallel-item {\n",
       "  display: flex;\n",
       "  flex-direction: column;\n",
       "}\n",
       "\n",
       "#sk-container-id-1 div.sk-parallel-item:first-child::after {\n",
       "  align-self: flex-end;\n",
       "  width: 50%;\n",
       "}\n",
       "\n",
       "#sk-container-id-1 div.sk-parallel-item:last-child::after {\n",
       "  align-self: flex-start;\n",
       "  width: 50%;\n",
       "}\n",
       "\n",
       "#sk-container-id-1 div.sk-parallel-item:only-child::after {\n",
       "  width: 0;\n",
       "}\n",
       "\n",
       "/* Serial-specific style estimator block */\n",
       "\n",
       "#sk-container-id-1 div.sk-serial {\n",
       "  display: flex;\n",
       "  flex-direction: column;\n",
       "  align-items: center;\n",
       "  background-color: var(--sklearn-color-background);\n",
       "  padding-right: 1em;\n",
       "  padding-left: 1em;\n",
       "}\n",
       "\n",
       "\n",
       "/* Toggleable style: style used for estimator/Pipeline/ColumnTransformer box that is\n",
       "clickable and can be expanded/collapsed.\n",
       "- Pipeline and ColumnTransformer use this feature and define the default style\n",
       "- Estimators will overwrite some part of the style using the `sk-estimator` class\n",
       "*/\n",
       "\n",
       "/* Pipeline and ColumnTransformer style (default) */\n",
       "\n",
       "#sk-container-id-1 div.sk-toggleable {\n",
       "  /* Default theme specific background. It is overwritten whether we have a\n",
       "  specific estimator or a Pipeline/ColumnTransformer */\n",
       "  background-color: var(--sklearn-color-background);\n",
       "}\n",
       "\n",
       "/* Toggleable label */\n",
       "#sk-container-id-1 label.sk-toggleable__label {\n",
       "  cursor: pointer;\n",
       "  display: block;\n",
       "  width: 100%;\n",
       "  margin-bottom: 0;\n",
       "  padding: 0.5em;\n",
       "  box-sizing: border-box;\n",
       "  text-align: center;\n",
       "}\n",
       "\n",
       "#sk-container-id-1 label.sk-toggleable__label-arrow:before {\n",
       "  /* Arrow on the left of the label */\n",
       "  content: \"▸\";\n",
       "  float: left;\n",
       "  margin-right: 0.25em;\n",
       "  color: var(--sklearn-color-icon);\n",
       "}\n",
       "\n",
       "#sk-container-id-1 label.sk-toggleable__label-arrow:hover:before {\n",
       "  color: var(--sklearn-color-text);\n",
       "}\n",
       "\n",
       "/* Toggleable content - dropdown */\n",
       "\n",
       "#sk-container-id-1 div.sk-toggleable__content {\n",
       "  max-height: 0;\n",
       "  max-width: 0;\n",
       "  overflow: hidden;\n",
       "  text-align: left;\n",
       "  /* unfitted */\n",
       "  background-color: var(--sklearn-color-unfitted-level-0);\n",
       "}\n",
       "\n",
       "#sk-container-id-1 div.sk-toggleable__content.fitted {\n",
       "  /* fitted */\n",
       "  background-color: var(--sklearn-color-fitted-level-0);\n",
       "}\n",
       "\n",
       "#sk-container-id-1 div.sk-toggleable__content pre {\n",
       "  margin: 0.2em;\n",
       "  border-radius: 0.25em;\n",
       "  color: var(--sklearn-color-text);\n",
       "  /* unfitted */\n",
       "  background-color: var(--sklearn-color-unfitted-level-0);\n",
       "}\n",
       "\n",
       "#sk-container-id-1 div.sk-toggleable__content.fitted pre {\n",
       "  /* unfitted */\n",
       "  background-color: var(--sklearn-color-fitted-level-0);\n",
       "}\n",
       "\n",
       "#sk-container-id-1 input.sk-toggleable__control:checked~div.sk-toggleable__content {\n",
       "  /* Expand drop-down */\n",
       "  max-height: 200px;\n",
       "  max-width: 100%;\n",
       "  overflow: auto;\n",
       "}\n",
       "\n",
       "#sk-container-id-1 input.sk-toggleable__control:checked~label.sk-toggleable__label-arrow:before {\n",
       "  content: \"▾\";\n",
       "}\n",
       "\n",
       "/* Pipeline/ColumnTransformer-specific style */\n",
       "\n",
       "#sk-container-id-1 div.sk-label input.sk-toggleable__control:checked~label.sk-toggleable__label {\n",
       "  color: var(--sklearn-color-text);\n",
       "  background-color: var(--sklearn-color-unfitted-level-2);\n",
       "}\n",
       "\n",
       "#sk-container-id-1 div.sk-label.fitted input.sk-toggleable__control:checked~label.sk-toggleable__label {\n",
       "  background-color: var(--sklearn-color-fitted-level-2);\n",
       "}\n",
       "\n",
       "/* Estimator-specific style */\n",
       "\n",
       "/* Colorize estimator box */\n",
       "#sk-container-id-1 div.sk-estimator input.sk-toggleable__control:checked~label.sk-toggleable__label {\n",
       "  /* unfitted */\n",
       "  background-color: var(--sklearn-color-unfitted-level-2);\n",
       "}\n",
       "\n",
       "#sk-container-id-1 div.sk-estimator.fitted input.sk-toggleable__control:checked~label.sk-toggleable__label {\n",
       "  /* fitted */\n",
       "  background-color: var(--sklearn-color-fitted-level-2);\n",
       "}\n",
       "\n",
       "#sk-container-id-1 div.sk-label label.sk-toggleable__label,\n",
       "#sk-container-id-1 div.sk-label label {\n",
       "  /* The background is the default theme color */\n",
       "  color: var(--sklearn-color-text-on-default-background);\n",
       "}\n",
       "\n",
       "/* On hover, darken the color of the background */\n",
       "#sk-container-id-1 div.sk-label:hover label.sk-toggleable__label {\n",
       "  color: var(--sklearn-color-text);\n",
       "  background-color: var(--sklearn-color-unfitted-level-2);\n",
       "}\n",
       "\n",
       "/* Label box, darken color on hover, fitted */\n",
       "#sk-container-id-1 div.sk-label.fitted:hover label.sk-toggleable__label.fitted {\n",
       "  color: var(--sklearn-color-text);\n",
       "  background-color: var(--sklearn-color-fitted-level-2);\n",
       "}\n",
       "\n",
       "/* Estimator label */\n",
       "\n",
       "#sk-container-id-1 div.sk-label label {\n",
       "  font-family: monospace;\n",
       "  font-weight: bold;\n",
       "  display: inline-block;\n",
       "  line-height: 1.2em;\n",
       "}\n",
       "\n",
       "#sk-container-id-1 div.sk-label-container {\n",
       "  text-align: center;\n",
       "}\n",
       "\n",
       "/* Estimator-specific */\n",
       "#sk-container-id-1 div.sk-estimator {\n",
       "  font-family: monospace;\n",
       "  border: 1px dotted var(--sklearn-color-border-box);\n",
       "  border-radius: 0.25em;\n",
       "  box-sizing: border-box;\n",
       "  margin-bottom: 0.5em;\n",
       "  /* unfitted */\n",
       "  background-color: var(--sklearn-color-unfitted-level-0);\n",
       "}\n",
       "\n",
       "#sk-container-id-1 div.sk-estimator.fitted {\n",
       "  /* fitted */\n",
       "  background-color: var(--sklearn-color-fitted-level-0);\n",
       "}\n",
       "\n",
       "/* on hover */\n",
       "#sk-container-id-1 div.sk-estimator:hover {\n",
       "  /* unfitted */\n",
       "  background-color: var(--sklearn-color-unfitted-level-2);\n",
       "}\n",
       "\n",
       "#sk-container-id-1 div.sk-estimator.fitted:hover {\n",
       "  /* fitted */\n",
       "  background-color: var(--sklearn-color-fitted-level-2);\n",
       "}\n",
       "\n",
       "/* Specification for estimator info (e.g. \"i\" and \"?\") */\n",
       "\n",
       "/* Common style for \"i\" and \"?\" */\n",
       "\n",
       ".sk-estimator-doc-link,\n",
       "a:link.sk-estimator-doc-link,\n",
       "a:visited.sk-estimator-doc-link {\n",
       "  float: right;\n",
       "  font-size: smaller;\n",
       "  line-height: 1em;\n",
       "  font-family: monospace;\n",
       "  background-color: var(--sklearn-color-background);\n",
       "  border-radius: 1em;\n",
       "  height: 1em;\n",
       "  width: 1em;\n",
       "  text-decoration: none !important;\n",
       "  margin-left: 1ex;\n",
       "  /* unfitted */\n",
       "  border: var(--sklearn-color-unfitted-level-1) 1pt solid;\n",
       "  color: var(--sklearn-color-unfitted-level-1);\n",
       "}\n",
       "\n",
       ".sk-estimator-doc-link.fitted,\n",
       "a:link.sk-estimator-doc-link.fitted,\n",
       "a:visited.sk-estimator-doc-link.fitted {\n",
       "  /* fitted */\n",
       "  border: var(--sklearn-color-fitted-level-1) 1pt solid;\n",
       "  color: var(--sklearn-color-fitted-level-1);\n",
       "}\n",
       "\n",
       "/* On hover */\n",
       "div.sk-estimator:hover .sk-estimator-doc-link:hover,\n",
       ".sk-estimator-doc-link:hover,\n",
       "div.sk-label-container:hover .sk-estimator-doc-link:hover,\n",
       ".sk-estimator-doc-link:hover {\n",
       "  /* unfitted */\n",
       "  background-color: var(--sklearn-color-unfitted-level-3);\n",
       "  color: var(--sklearn-color-background);\n",
       "  text-decoration: none;\n",
       "}\n",
       "\n",
       "div.sk-estimator.fitted:hover .sk-estimator-doc-link.fitted:hover,\n",
       ".sk-estimator-doc-link.fitted:hover,\n",
       "div.sk-label-container:hover .sk-estimator-doc-link.fitted:hover,\n",
       ".sk-estimator-doc-link.fitted:hover {\n",
       "  /* fitted */\n",
       "  background-color: var(--sklearn-color-fitted-level-3);\n",
       "  color: var(--sklearn-color-background);\n",
       "  text-decoration: none;\n",
       "}\n",
       "\n",
       "/* Span, style for the box shown on hovering the info icon */\n",
       ".sk-estimator-doc-link span {\n",
       "  display: none;\n",
       "  z-index: 9999;\n",
       "  position: relative;\n",
       "  font-weight: normal;\n",
       "  right: .2ex;\n",
       "  padding: .5ex;\n",
       "  margin: .5ex;\n",
       "  width: min-content;\n",
       "  min-width: 20ex;\n",
       "  max-width: 50ex;\n",
       "  color: var(--sklearn-color-text);\n",
       "  box-shadow: 2pt 2pt 4pt #999;\n",
       "  /* unfitted */\n",
       "  background: var(--sklearn-color-unfitted-level-0);\n",
       "  border: .5pt solid var(--sklearn-color-unfitted-level-3);\n",
       "}\n",
       "\n",
       ".sk-estimator-doc-link.fitted span {\n",
       "  /* fitted */\n",
       "  background: var(--sklearn-color-fitted-level-0);\n",
       "  border: var(--sklearn-color-fitted-level-3);\n",
       "}\n",
       "\n",
       ".sk-estimator-doc-link:hover span {\n",
       "  display: block;\n",
       "}\n",
       "\n",
       "/* \"?\"-specific style due to the `<a>` HTML tag */\n",
       "\n",
       "#sk-container-id-1 a.estimator_doc_link {\n",
       "  float: right;\n",
       "  font-size: 1rem;\n",
       "  line-height: 1em;\n",
       "  font-family: monospace;\n",
       "  background-color: var(--sklearn-color-background);\n",
       "  border-radius: 1rem;\n",
       "  height: 1rem;\n",
       "  width: 1rem;\n",
       "  text-decoration: none;\n",
       "  /* unfitted */\n",
       "  color: var(--sklearn-color-unfitted-level-1);\n",
       "  border: var(--sklearn-color-unfitted-level-1) 1pt solid;\n",
       "}\n",
       "\n",
       "#sk-container-id-1 a.estimator_doc_link.fitted {\n",
       "  /* fitted */\n",
       "  border: var(--sklearn-color-fitted-level-1) 1pt solid;\n",
       "  color: var(--sklearn-color-fitted-level-1);\n",
       "}\n",
       "\n",
       "/* On hover */\n",
       "#sk-container-id-1 a.estimator_doc_link:hover {\n",
       "  /* unfitted */\n",
       "  background-color: var(--sklearn-color-unfitted-level-3);\n",
       "  color: var(--sklearn-color-background);\n",
       "  text-decoration: none;\n",
       "}\n",
       "\n",
       "#sk-container-id-1 a.estimator_doc_link.fitted:hover {\n",
       "  /* fitted */\n",
       "  background-color: var(--sklearn-color-fitted-level-3);\n",
       "}\n",
       "</style><div id=\"sk-container-id-1\" class=\"sk-top-container\"><div class=\"sk-text-repr-fallback\"><pre>TfidfVectorizer(stop_words=[&#x27;i&#x27;, &#x27;me&#x27;, &#x27;my&#x27;, &#x27;myself&#x27;, &#x27;we&#x27;, &#x27;our&#x27;, &#x27;ours&#x27;,\n",
       "                            &#x27;ourselves&#x27;, &#x27;you&#x27;, &quot;you&#x27;re&quot;, &quot;you&#x27;ve&quot;, &quot;you&#x27;ll&quot;,\n",
       "                            &quot;you&#x27;d&quot;, &#x27;your&#x27;, &#x27;yours&#x27;, &#x27;yourself&#x27;, &#x27;yourselves&#x27;,\n",
       "                            &#x27;he&#x27;, &#x27;him&#x27;, &#x27;his&#x27;, &#x27;himself&#x27;, &#x27;she&#x27;, &quot;she&#x27;s&quot;,\n",
       "                            &#x27;her&#x27;, &#x27;hers&#x27;, &#x27;herself&#x27;, &#x27;it&#x27;, &quot;it&#x27;s&quot;, &#x27;its&#x27;,\n",
       "                            &#x27;itself&#x27;, ...],\n",
       "                tokenizer=&lt;function tokenize at 0x000001DF54204FE0&gt;)</pre><b>In a Jupyter environment, please rerun this cell to show the HTML representation or trust the notebook. <br />On GitHub, the HTML representation is unable to render, please try loading this page with nbviewer.org.</b></div><div class=\"sk-container\" hidden><div class=\"sk-item\"><div class=\"sk-estimator fitted sk-toggleable\"><input class=\"sk-toggleable__control sk-hidden--visually\" id=\"sk-estimator-id-1\" type=\"checkbox\" checked><label for=\"sk-estimator-id-1\" class=\"sk-toggleable__label fitted sk-toggleable__label-arrow fitted\">&nbsp;&nbsp;TfidfVectorizer<a class=\"sk-estimator-doc-link fitted\" rel=\"noreferrer\" target=\"_blank\" href=\"https://scikit-learn.org/1.5/modules/generated/sklearn.feature_extraction.text.TfidfVectorizer.html\">?<span>Documentation for TfidfVectorizer</span></a><span class=\"sk-estimator-doc-link fitted\">i<span>Fitted</span></span></label><div class=\"sk-toggleable__content fitted\"><pre>TfidfVectorizer(stop_words=[&#x27;i&#x27;, &#x27;me&#x27;, &#x27;my&#x27;, &#x27;myself&#x27;, &#x27;we&#x27;, &#x27;our&#x27;, &#x27;ours&#x27;,\n",
       "                            &#x27;ourselves&#x27;, &#x27;you&#x27;, &quot;you&#x27;re&quot;, &quot;you&#x27;ve&quot;, &quot;you&#x27;ll&quot;,\n",
       "                            &quot;you&#x27;d&quot;, &#x27;your&#x27;, &#x27;yours&#x27;, &#x27;yourself&#x27;, &#x27;yourselves&#x27;,\n",
       "                            &#x27;he&#x27;, &#x27;him&#x27;, &#x27;his&#x27;, &#x27;himself&#x27;, &#x27;she&#x27;, &quot;she&#x27;s&quot;,\n",
       "                            &#x27;her&#x27;, &#x27;hers&#x27;, &#x27;herself&#x27;, &#x27;it&#x27;, &quot;it&#x27;s&quot;, &#x27;its&#x27;,\n",
       "                            &#x27;itself&#x27;, ...],\n",
       "                tokenizer=&lt;function tokenize at 0x000001DF54204FE0&gt;)</pre></div> </div></div></div></div>"
      ],
      "text/plain": [
       "TfidfVectorizer(stop_words=['i', 'me', 'my', 'myself', 'we', 'our', 'ours',\n",
       "                            'ourselves', 'you', \"you're\", \"you've\", \"you'll\",\n",
       "                            \"you'd\", 'your', 'yours', 'yourself', 'yourselves',\n",
       "                            'he', 'him', 'his', 'himself', 'she', \"she's\",\n",
       "                            'her', 'hers', 'herself', 'it', \"it's\", 'its',\n",
       "                            'itself', ...],\n",
       "                tokenizer=<function tokenize at 0x000001DF54204FE0>)"
      ]
     },
     "execution_count": 23,
     "metadata": {},
     "output_type": "execute_result"
    }
   ],
   "source": [
    "vectorizer.fit(train_data.text)"
   ]
  },
  {
   "cell_type": "code",
   "execution_count": 24,
   "metadata": {
    "id": "Tatp2DyG2LQF"
   },
   "outputs": [],
   "source": [
    "vectorizer.get_feature_names_out()[: 100]\n",
    "vectorizer= vectorizer"
   ]
  },
  {
   "cell_type": "code",
   "execution_count": 25,
   "metadata": {
    "colab": {
     "base_uri": "https://localhost:8080/",
     "height": 179
    },
    "id": "Nql0ED231MlT",
    "outputId": "bd9f5dd5-704e-4cb0-8a96-2f573630f474"
   },
   "outputs": [
    {
     "data": {
      "text/html": [
       "<style>#sk-container-id-2 {\n",
       "  /* Definition of color scheme common for light and dark mode */\n",
       "  --sklearn-color-text: black;\n",
       "  --sklearn-color-line: gray;\n",
       "  /* Definition of color scheme for unfitted estimators */\n",
       "  --sklearn-color-unfitted-level-0: #fff5e6;\n",
       "  --sklearn-color-unfitted-level-1: #f6e4d2;\n",
       "  --sklearn-color-unfitted-level-2: #ffe0b3;\n",
       "  --sklearn-color-unfitted-level-3: chocolate;\n",
       "  /* Definition of color scheme for fitted estimators */\n",
       "  --sklearn-color-fitted-level-0: #f0f8ff;\n",
       "  --sklearn-color-fitted-level-1: #d4ebff;\n",
       "  --sklearn-color-fitted-level-2: #b3dbfd;\n",
       "  --sklearn-color-fitted-level-3: cornflowerblue;\n",
       "\n",
       "  /* Specific color for light theme */\n",
       "  --sklearn-color-text-on-default-background: var(--sg-text-color, var(--theme-code-foreground, var(--jp-content-font-color1, black)));\n",
       "  --sklearn-color-background: var(--sg-background-color, var(--theme-background, var(--jp-layout-color0, white)));\n",
       "  --sklearn-color-border-box: var(--sg-text-color, var(--theme-code-foreground, var(--jp-content-font-color1, black)));\n",
       "  --sklearn-color-icon: #696969;\n",
       "\n",
       "  @media (prefers-color-scheme: dark) {\n",
       "    /* Redefinition of color scheme for dark theme */\n",
       "    --sklearn-color-text-on-default-background: var(--sg-text-color, var(--theme-code-foreground, var(--jp-content-font-color1, white)));\n",
       "    --sklearn-color-background: var(--sg-background-color, var(--theme-background, var(--jp-layout-color0, #111)));\n",
       "    --sklearn-color-border-box: var(--sg-text-color, var(--theme-code-foreground, var(--jp-content-font-color1, white)));\n",
       "    --sklearn-color-icon: #878787;\n",
       "  }\n",
       "}\n",
       "\n",
       "#sk-container-id-2 {\n",
       "  color: var(--sklearn-color-text);\n",
       "}\n",
       "\n",
       "#sk-container-id-2 pre {\n",
       "  padding: 0;\n",
       "}\n",
       "\n",
       "#sk-container-id-2 input.sk-hidden--visually {\n",
       "  border: 0;\n",
       "  clip: rect(1px 1px 1px 1px);\n",
       "  clip: rect(1px, 1px, 1px, 1px);\n",
       "  height: 1px;\n",
       "  margin: -1px;\n",
       "  overflow: hidden;\n",
       "  padding: 0;\n",
       "  position: absolute;\n",
       "  width: 1px;\n",
       "}\n",
       "\n",
       "#sk-container-id-2 div.sk-dashed-wrapped {\n",
       "  border: 1px dashed var(--sklearn-color-line);\n",
       "  margin: 0 0.4em 0.5em 0.4em;\n",
       "  box-sizing: border-box;\n",
       "  padding-bottom: 0.4em;\n",
       "  background-color: var(--sklearn-color-background);\n",
       "}\n",
       "\n",
       "#sk-container-id-2 div.sk-container {\n",
       "  /* jupyter's `normalize.less` sets `[hidden] { display: none; }`\n",
       "     but bootstrap.min.css set `[hidden] { display: none !important; }`\n",
       "     so we also need the `!important` here to be able to override the\n",
       "     default hidden behavior on the sphinx rendered scikit-learn.org.\n",
       "     See: https://github.com/scikit-learn/scikit-learn/issues/21755 */\n",
       "  display: inline-block !important;\n",
       "  position: relative;\n",
       "}\n",
       "\n",
       "#sk-container-id-2 div.sk-text-repr-fallback {\n",
       "  display: none;\n",
       "}\n",
       "\n",
       "div.sk-parallel-item,\n",
       "div.sk-serial,\n",
       "div.sk-item {\n",
       "  /* draw centered vertical line to link estimators */\n",
       "  background-image: linear-gradient(var(--sklearn-color-text-on-default-background), var(--sklearn-color-text-on-default-background));\n",
       "  background-size: 2px 100%;\n",
       "  background-repeat: no-repeat;\n",
       "  background-position: center center;\n",
       "}\n",
       "\n",
       "/* Parallel-specific style estimator block */\n",
       "\n",
       "#sk-container-id-2 div.sk-parallel-item::after {\n",
       "  content: \"\";\n",
       "  width: 100%;\n",
       "  border-bottom: 2px solid var(--sklearn-color-text-on-default-background);\n",
       "  flex-grow: 1;\n",
       "}\n",
       "\n",
       "#sk-container-id-2 div.sk-parallel {\n",
       "  display: flex;\n",
       "  align-items: stretch;\n",
       "  justify-content: center;\n",
       "  background-color: var(--sklearn-color-background);\n",
       "  position: relative;\n",
       "}\n",
       "\n",
       "#sk-container-id-2 div.sk-parallel-item {\n",
       "  display: flex;\n",
       "  flex-direction: column;\n",
       "}\n",
       "\n",
       "#sk-container-id-2 div.sk-parallel-item:first-child::after {\n",
       "  align-self: flex-end;\n",
       "  width: 50%;\n",
       "}\n",
       "\n",
       "#sk-container-id-2 div.sk-parallel-item:last-child::after {\n",
       "  align-self: flex-start;\n",
       "  width: 50%;\n",
       "}\n",
       "\n",
       "#sk-container-id-2 div.sk-parallel-item:only-child::after {\n",
       "  width: 0;\n",
       "}\n",
       "\n",
       "/* Serial-specific style estimator block */\n",
       "\n",
       "#sk-container-id-2 div.sk-serial {\n",
       "  display: flex;\n",
       "  flex-direction: column;\n",
       "  align-items: center;\n",
       "  background-color: var(--sklearn-color-background);\n",
       "  padding-right: 1em;\n",
       "  padding-left: 1em;\n",
       "}\n",
       "\n",
       "\n",
       "/* Toggleable style: style used for estimator/Pipeline/ColumnTransformer box that is\n",
       "clickable and can be expanded/collapsed.\n",
       "- Pipeline and ColumnTransformer use this feature and define the default style\n",
       "- Estimators will overwrite some part of the style using the `sk-estimator` class\n",
       "*/\n",
       "\n",
       "/* Pipeline and ColumnTransformer style (default) */\n",
       "\n",
       "#sk-container-id-2 div.sk-toggleable {\n",
       "  /* Default theme specific background. It is overwritten whether we have a\n",
       "  specific estimator or a Pipeline/ColumnTransformer */\n",
       "  background-color: var(--sklearn-color-background);\n",
       "}\n",
       "\n",
       "/* Toggleable label */\n",
       "#sk-container-id-2 label.sk-toggleable__label {\n",
       "  cursor: pointer;\n",
       "  display: block;\n",
       "  width: 100%;\n",
       "  margin-bottom: 0;\n",
       "  padding: 0.5em;\n",
       "  box-sizing: border-box;\n",
       "  text-align: center;\n",
       "}\n",
       "\n",
       "#sk-container-id-2 label.sk-toggleable__label-arrow:before {\n",
       "  /* Arrow on the left of the label */\n",
       "  content: \"▸\";\n",
       "  float: left;\n",
       "  margin-right: 0.25em;\n",
       "  color: var(--sklearn-color-icon);\n",
       "}\n",
       "\n",
       "#sk-container-id-2 label.sk-toggleable__label-arrow:hover:before {\n",
       "  color: var(--sklearn-color-text);\n",
       "}\n",
       "\n",
       "/* Toggleable content - dropdown */\n",
       "\n",
       "#sk-container-id-2 div.sk-toggleable__content {\n",
       "  max-height: 0;\n",
       "  max-width: 0;\n",
       "  overflow: hidden;\n",
       "  text-align: left;\n",
       "  /* unfitted */\n",
       "  background-color: var(--sklearn-color-unfitted-level-0);\n",
       "}\n",
       "\n",
       "#sk-container-id-2 div.sk-toggleable__content.fitted {\n",
       "  /* fitted */\n",
       "  background-color: var(--sklearn-color-fitted-level-0);\n",
       "}\n",
       "\n",
       "#sk-container-id-2 div.sk-toggleable__content pre {\n",
       "  margin: 0.2em;\n",
       "  border-radius: 0.25em;\n",
       "  color: var(--sklearn-color-text);\n",
       "  /* unfitted */\n",
       "  background-color: var(--sklearn-color-unfitted-level-0);\n",
       "}\n",
       "\n",
       "#sk-container-id-2 div.sk-toggleable__content.fitted pre {\n",
       "  /* unfitted */\n",
       "  background-color: var(--sklearn-color-fitted-level-0);\n",
       "}\n",
       "\n",
       "#sk-container-id-2 input.sk-toggleable__control:checked~div.sk-toggleable__content {\n",
       "  /* Expand drop-down */\n",
       "  max-height: 200px;\n",
       "  max-width: 100%;\n",
       "  overflow: auto;\n",
       "}\n",
       "\n",
       "#sk-container-id-2 input.sk-toggleable__control:checked~label.sk-toggleable__label-arrow:before {\n",
       "  content: \"▾\";\n",
       "}\n",
       "\n",
       "/* Pipeline/ColumnTransformer-specific style */\n",
       "\n",
       "#sk-container-id-2 div.sk-label input.sk-toggleable__control:checked~label.sk-toggleable__label {\n",
       "  color: var(--sklearn-color-text);\n",
       "  background-color: var(--sklearn-color-unfitted-level-2);\n",
       "}\n",
       "\n",
       "#sk-container-id-2 div.sk-label.fitted input.sk-toggleable__control:checked~label.sk-toggleable__label {\n",
       "  background-color: var(--sklearn-color-fitted-level-2);\n",
       "}\n",
       "\n",
       "/* Estimator-specific style */\n",
       "\n",
       "/* Colorize estimator box */\n",
       "#sk-container-id-2 div.sk-estimator input.sk-toggleable__control:checked~label.sk-toggleable__label {\n",
       "  /* unfitted */\n",
       "  background-color: var(--sklearn-color-unfitted-level-2);\n",
       "}\n",
       "\n",
       "#sk-container-id-2 div.sk-estimator.fitted input.sk-toggleable__control:checked~label.sk-toggleable__label {\n",
       "  /* fitted */\n",
       "  background-color: var(--sklearn-color-fitted-level-2);\n",
       "}\n",
       "\n",
       "#sk-container-id-2 div.sk-label label.sk-toggleable__label,\n",
       "#sk-container-id-2 div.sk-label label {\n",
       "  /* The background is the default theme color */\n",
       "  color: var(--sklearn-color-text-on-default-background);\n",
       "}\n",
       "\n",
       "/* On hover, darken the color of the background */\n",
       "#sk-container-id-2 div.sk-label:hover label.sk-toggleable__label {\n",
       "  color: var(--sklearn-color-text);\n",
       "  background-color: var(--sklearn-color-unfitted-level-2);\n",
       "}\n",
       "\n",
       "/* Label box, darken color on hover, fitted */\n",
       "#sk-container-id-2 div.sk-label.fitted:hover label.sk-toggleable__label.fitted {\n",
       "  color: var(--sklearn-color-text);\n",
       "  background-color: var(--sklearn-color-fitted-level-2);\n",
       "}\n",
       "\n",
       "/* Estimator label */\n",
       "\n",
       "#sk-container-id-2 div.sk-label label {\n",
       "  font-family: monospace;\n",
       "  font-weight: bold;\n",
       "  display: inline-block;\n",
       "  line-height: 1.2em;\n",
       "}\n",
       "\n",
       "#sk-container-id-2 div.sk-label-container {\n",
       "  text-align: center;\n",
       "}\n",
       "\n",
       "/* Estimator-specific */\n",
       "#sk-container-id-2 div.sk-estimator {\n",
       "  font-family: monospace;\n",
       "  border: 1px dotted var(--sklearn-color-border-box);\n",
       "  border-radius: 0.25em;\n",
       "  box-sizing: border-box;\n",
       "  margin-bottom: 0.5em;\n",
       "  /* unfitted */\n",
       "  background-color: var(--sklearn-color-unfitted-level-0);\n",
       "}\n",
       "\n",
       "#sk-container-id-2 div.sk-estimator.fitted {\n",
       "  /* fitted */\n",
       "  background-color: var(--sklearn-color-fitted-level-0);\n",
       "}\n",
       "\n",
       "/* on hover */\n",
       "#sk-container-id-2 div.sk-estimator:hover {\n",
       "  /* unfitted */\n",
       "  background-color: var(--sklearn-color-unfitted-level-2);\n",
       "}\n",
       "\n",
       "#sk-container-id-2 div.sk-estimator.fitted:hover {\n",
       "  /* fitted */\n",
       "  background-color: var(--sklearn-color-fitted-level-2);\n",
       "}\n",
       "\n",
       "/* Specification for estimator info (e.g. \"i\" and \"?\") */\n",
       "\n",
       "/* Common style for \"i\" and \"?\" */\n",
       "\n",
       ".sk-estimator-doc-link,\n",
       "a:link.sk-estimator-doc-link,\n",
       "a:visited.sk-estimator-doc-link {\n",
       "  float: right;\n",
       "  font-size: smaller;\n",
       "  line-height: 1em;\n",
       "  font-family: monospace;\n",
       "  background-color: var(--sklearn-color-background);\n",
       "  border-radius: 1em;\n",
       "  height: 1em;\n",
       "  width: 1em;\n",
       "  text-decoration: none !important;\n",
       "  margin-left: 1ex;\n",
       "  /* unfitted */\n",
       "  border: var(--sklearn-color-unfitted-level-1) 1pt solid;\n",
       "  color: var(--sklearn-color-unfitted-level-1);\n",
       "}\n",
       "\n",
       ".sk-estimator-doc-link.fitted,\n",
       "a:link.sk-estimator-doc-link.fitted,\n",
       "a:visited.sk-estimator-doc-link.fitted {\n",
       "  /* fitted */\n",
       "  border: var(--sklearn-color-fitted-level-1) 1pt solid;\n",
       "  color: var(--sklearn-color-fitted-level-1);\n",
       "}\n",
       "\n",
       "/* On hover */\n",
       "div.sk-estimator:hover .sk-estimator-doc-link:hover,\n",
       ".sk-estimator-doc-link:hover,\n",
       "div.sk-label-container:hover .sk-estimator-doc-link:hover,\n",
       ".sk-estimator-doc-link:hover {\n",
       "  /* unfitted */\n",
       "  background-color: var(--sklearn-color-unfitted-level-3);\n",
       "  color: var(--sklearn-color-background);\n",
       "  text-decoration: none;\n",
       "}\n",
       "\n",
       "div.sk-estimator.fitted:hover .sk-estimator-doc-link.fitted:hover,\n",
       ".sk-estimator-doc-link.fitted:hover,\n",
       "div.sk-label-container:hover .sk-estimator-doc-link.fitted:hover,\n",
       ".sk-estimator-doc-link.fitted:hover {\n",
       "  /* fitted */\n",
       "  background-color: var(--sklearn-color-fitted-level-3);\n",
       "  color: var(--sklearn-color-background);\n",
       "  text-decoration: none;\n",
       "}\n",
       "\n",
       "/* Span, style for the box shown on hovering the info icon */\n",
       ".sk-estimator-doc-link span {\n",
       "  display: none;\n",
       "  z-index: 9999;\n",
       "  position: relative;\n",
       "  font-weight: normal;\n",
       "  right: .2ex;\n",
       "  padding: .5ex;\n",
       "  margin: .5ex;\n",
       "  width: min-content;\n",
       "  min-width: 20ex;\n",
       "  max-width: 50ex;\n",
       "  color: var(--sklearn-color-text);\n",
       "  box-shadow: 2pt 2pt 4pt #999;\n",
       "  /* unfitted */\n",
       "  background: var(--sklearn-color-unfitted-level-0);\n",
       "  border: .5pt solid var(--sklearn-color-unfitted-level-3);\n",
       "}\n",
       "\n",
       ".sk-estimator-doc-link.fitted span {\n",
       "  /* fitted */\n",
       "  background: var(--sklearn-color-fitted-level-0);\n",
       "  border: var(--sklearn-color-fitted-level-3);\n",
       "}\n",
       "\n",
       ".sk-estimator-doc-link:hover span {\n",
       "  display: block;\n",
       "}\n",
       "\n",
       "/* \"?\"-specific style due to the `<a>` HTML tag */\n",
       "\n",
       "#sk-container-id-2 a.estimator_doc_link {\n",
       "  float: right;\n",
       "  font-size: 1rem;\n",
       "  line-height: 1em;\n",
       "  font-family: monospace;\n",
       "  background-color: var(--sklearn-color-background);\n",
       "  border-radius: 1rem;\n",
       "  height: 1rem;\n",
       "  width: 1rem;\n",
       "  text-decoration: none;\n",
       "  /* unfitted */\n",
       "  color: var(--sklearn-color-unfitted-level-1);\n",
       "  border: var(--sklearn-color-unfitted-level-1) 1pt solid;\n",
       "}\n",
       "\n",
       "#sk-container-id-2 a.estimator_doc_link.fitted {\n",
       "  /* fitted */\n",
       "  border: var(--sklearn-color-fitted-level-1) 1pt solid;\n",
       "  color: var(--sklearn-color-fitted-level-1);\n",
       "}\n",
       "\n",
       "/* On hover */\n",
       "#sk-container-id-2 a.estimator_doc_link:hover {\n",
       "  /* unfitted */\n",
       "  background-color: var(--sklearn-color-unfitted-level-3);\n",
       "  color: var(--sklearn-color-background);\n",
       "  text-decoration: none;\n",
       "}\n",
       "\n",
       "#sk-container-id-2 a.estimator_doc_link.fitted:hover {\n",
       "  /* fitted */\n",
       "  background-color: var(--sklearn-color-fitted-level-3);\n",
       "}\n",
       "</style><div id=\"sk-container-id-2\" class=\"sk-top-container\"><div class=\"sk-text-repr-fallback\"><pre>TfidfVectorizer(stop_words=[&#x27;i&#x27;, &#x27;me&#x27;, &#x27;my&#x27;, &#x27;myself&#x27;, &#x27;we&#x27;, &#x27;our&#x27;, &#x27;ours&#x27;,\n",
       "                            &#x27;ourselves&#x27;, &#x27;you&#x27;, &quot;you&#x27;re&quot;, &quot;you&#x27;ve&quot;, &quot;you&#x27;ll&quot;,\n",
       "                            &quot;you&#x27;d&quot;, &#x27;your&#x27;, &#x27;yours&#x27;, &#x27;yourself&#x27;, &#x27;yourselves&#x27;,\n",
       "                            &#x27;he&#x27;, &#x27;him&#x27;, &#x27;his&#x27;, &#x27;himself&#x27;, &#x27;she&#x27;, &quot;she&#x27;s&quot;,\n",
       "                            &#x27;her&#x27;, &#x27;hers&#x27;, &#x27;herself&#x27;, &#x27;it&#x27;, &quot;it&#x27;s&quot;, &#x27;its&#x27;,\n",
       "                            &#x27;itself&#x27;, ...],\n",
       "                tokenizer=&lt;function tokenize at 0x000001DF54204FE0&gt;)</pre><b>In a Jupyter environment, please rerun this cell to show the HTML representation or trust the notebook. <br />On GitHub, the HTML representation is unable to render, please try loading this page with nbviewer.org.</b></div><div class=\"sk-container\" hidden><div class=\"sk-item\"><div class=\"sk-estimator fitted sk-toggleable\"><input class=\"sk-toggleable__control sk-hidden--visually\" id=\"sk-estimator-id-2\" type=\"checkbox\" checked><label for=\"sk-estimator-id-2\" class=\"sk-toggleable__label fitted sk-toggleable__label-arrow fitted\">&nbsp;&nbsp;TfidfVectorizer<a class=\"sk-estimator-doc-link fitted\" rel=\"noreferrer\" target=\"_blank\" href=\"https://scikit-learn.org/1.5/modules/generated/sklearn.feature_extraction.text.TfidfVectorizer.html\">?<span>Documentation for TfidfVectorizer</span></a><span class=\"sk-estimator-doc-link fitted\">i<span>Fitted</span></span></label><div class=\"sk-toggleable__content fitted\"><pre>TfidfVectorizer(stop_words=[&#x27;i&#x27;, &#x27;me&#x27;, &#x27;my&#x27;, &#x27;myself&#x27;, &#x27;we&#x27;, &#x27;our&#x27;, &#x27;ours&#x27;,\n",
       "                            &#x27;ourselves&#x27;, &#x27;you&#x27;, &quot;you&#x27;re&quot;, &quot;you&#x27;ve&quot;, &quot;you&#x27;ll&quot;,\n",
       "                            &quot;you&#x27;d&quot;, &#x27;your&#x27;, &#x27;yours&#x27;, &#x27;yourself&#x27;, &#x27;yourselves&#x27;,\n",
       "                            &#x27;he&#x27;, &#x27;him&#x27;, &#x27;his&#x27;, &#x27;himself&#x27;, &#x27;she&#x27;, &quot;she&#x27;s&quot;,\n",
       "                            &#x27;her&#x27;, &#x27;hers&#x27;, &#x27;herself&#x27;, &#x27;it&#x27;, &quot;it&#x27;s&quot;, &#x27;its&#x27;,\n",
       "                            &#x27;itself&#x27;, ...],\n",
       "                tokenizer=&lt;function tokenize at 0x000001DF54204FE0&gt;)</pre></div> </div></div></div></div>"
      ],
      "text/plain": [
       "TfidfVectorizer(stop_words=['i', 'me', 'my', 'myself', 'we', 'our', 'ours',\n",
       "                            'ourselves', 'you', \"you're\", \"you've\", \"you'll\",\n",
       "                            \"you'd\", 'your', 'yours', 'yourself', 'yourselves',\n",
       "                            'he', 'him', 'his', 'himself', 'she', \"she's\",\n",
       "                            'her', 'hers', 'herself', 'it', \"it's\", 'its',\n",
       "                            'itself', ...],\n",
       "                tokenizer=<function tokenize at 0x000001DF54204FE0>)"
      ]
     },
     "execution_count": 25,
     "metadata": {},
     "output_type": "execute_result"
    }
   ],
   "source": [
    "vectorizer"
   ]
  },
  {
   "cell_type": "code",
   "execution_count": 26,
   "metadata": {
    "id": "-DWLYaEQ2iq-"
   },
   "outputs": [],
   "source": [
    "data_input= vectorizer.transform(train_data.text)\n",
    "test_data_input= vectorizer.transform(test_data.text)"
   ]
  },
  {
   "cell_type": "code",
   "execution_count": 27,
   "metadata": {
    "colab": {
     "base_uri": "https://localhost:8080/"
    },
    "id": "PY58z-TP2nl9",
    "outputId": "78f4a228-928b-417f-9b2c-4d43d490a4ba"
   },
   "outputs": [
    {
     "data": {
      "text/plain": [
       "((980, 1080), (173, 1080))"
      ]
     },
     "execution_count": 27,
     "metadata": {},
     "output_type": "execute_result"
    }
   ],
   "source": [
    "data_input.shape, test_data_input.shape"
   ]
  },
  {
   "cell_type": "code",
   "execution_count": 28,
   "metadata": {
    "colab": {
     "base_uri": "https://localhost:8080/"
    },
    "id": "arlW5Guj2uX9",
    "outputId": "478cfdb0-0bd0-41b3-a8cc-8658fae3ee10"
   },
   "outputs": [
    {
     "data": {
      "text/plain": [
       "<Compressed Sparse Row sparse matrix of dtype 'float64'\n",
       "\twith 23 stored elements and shape (1, 1080)>"
      ]
     },
     "execution_count": 28,
     "metadata": {},
     "output_type": "execute_result"
    }
   ],
   "source": [
    "data_input[0]"
   ]
  },
  {
   "cell_type": "code",
   "execution_count": 29,
   "metadata": {
    "id": "pk9EQnAD2ymM"
   },
   "outputs": [],
   "source": [
    "# Convert vectors to tensors\n",
    "input_data_tensors= torch.tensor(data_input.toarray()).to(torch.float32)\n",
    "test_data_tensors= torch.tensor(test_data_input.toarray()).to(torch.float32)"
   ]
  },
  {
   "cell_type": "code",
   "execution_count": 30,
   "metadata": {
    "colab": {
     "base_uri": "https://localhost:8080/"
    },
    "id": "r3SVyRWnEkUU",
    "outputId": "9b01184a-5c6a-4e9d-f882-26a25175aa76"
   },
   "outputs": [
    {
     "data": {
      "text/plain": [
       "(torch.Size([980, 1080]), torch.float32)"
      ]
     },
     "execution_count": 30,
     "metadata": {},
     "output_type": "execute_result"
    }
   ],
   "source": [
    "input_data_tensors.shape, input_data_tensors.dtype"
   ]
  },
  {
   "cell_type": "code",
   "execution_count": 31,
   "metadata": {
    "colab": {
     "base_uri": "https://localhost:8080/"
    },
    "id": "UqcyhYtUGR7U",
    "outputId": "a7b647a9-28d3-45a7-d19b-828851ebf3b7"
   },
   "outputs": [
    {
     "data": {
      "text/plain": [
       "(torch.Size([173, 1080]), torch.float32)"
      ]
     },
     "execution_count": 31,
     "metadata": {},
     "output_type": "execute_result"
    }
   ],
   "source": [
    "test_data_tensors.shape,test_data_tensors.dtype"
   ]
  },
  {
   "cell_type": "code",
   "execution_count": 32,
   "metadata": {
    "id": "IA1WGNVnGVJY"
   },
   "outputs": [],
   "source": [
    "train_data_output= torch.tensor(train_data['label'].values)\n",
    "test_data_output= torch.tensor(test_data['label'].values)"
   ]
  },
  {
   "cell_type": "code",
   "execution_count": 33,
   "metadata": {
    "colab": {
     "base_uri": "https://localhost:8080/"
    },
    "id": "tuXUxwpcGZVd",
    "outputId": "2b53d03d-bbc6-4304-cc4c-f60691194d4e"
   },
   "outputs": [
    {
     "data": {
      "text/plain": [
       "(torch.Size([980]), torch.Size([173]))"
      ]
     },
     "execution_count": 33,
     "metadata": {},
     "output_type": "execute_result"
    }
   ],
   "source": [
    "train_data_output.shape, test_data_output.shape"
   ]
  },
  {
   "cell_type": "markdown",
   "metadata": {
    "id": "vj0VK9NnGfCj"
   },
   "source": [
    "## Join input and target data together and create dataloaders"
   ]
  },
  {
   "cell_type": "code",
   "execution_count": 34,
   "metadata": {
    "id": "CFXBkZuBGnpd"
   },
   "outputs": [],
   "source": [
    "import preprocess_data\n",
    "import model"
   ]
  },
  {
   "cell_type": "code",
   "execution_count": 35,
   "metadata": {
    "id": "T8CCIT5yGshH"
   },
   "outputs": [],
   "source": [
    "train_dataset= preprocess_data.preprocess_data(input_data_tensors, train_data_output)\n",
    "test_dataset= preprocess_data.preprocess_data(test_data_tensors, test_data_output)"
   ]
  },
  {
   "cell_type": "code",
   "execution_count": 36,
   "metadata": {
    "colab": {
     "base_uri": "https://localhost:8080/"
    },
    "id": "gP8SZWE8Gvkv",
    "outputId": "62bbcf77-8e89-4f08-e099-7e1a845fc357"
   },
   "outputs": [
    {
     "data": {
      "text/plain": [
       "(tensor([0., 0., 0.,  ..., 0., 0., 0.]), tensor(2))"
      ]
     },
     "execution_count": 36,
     "metadata": {},
     "output_type": "execute_result"
    }
   ],
   "source": [
    "train_dataset[0]"
   ]
  },
  {
   "cell_type": "code",
   "execution_count": 37,
   "metadata": {
    "id": "wA6eMHITGzt8"
   },
   "outputs": [],
   "source": [
    "train_dataloader= preprocess_data.dataloader(dataset=train_dataset,\n",
    "                                             batch_size=32, shuffle= True, num_workers=2)\n",
    "test_dataloader= preprocess_data.dataloader(dataset=test_dataset,\n",
    "                                             batch_size=32, shuffle= False, num_workers=2)"
   ]
  },
  {
   "cell_type": "code",
   "execution_count": 38,
   "metadata": {
    "colab": {
     "base_uri": "https://localhost:8080/"
    },
    "id": "o_GMPlh-LIuU",
    "outputId": "68c3229c-af7c-4dbc-ffbf-9fe40af61137"
   },
   "outputs": [
    {
     "data": {
      "text/plain": [
       "(31, 6)"
      ]
     },
     "execution_count": 38,
     "metadata": {},
     "output_type": "execute_result"
    }
   ],
   "source": [
    "len(train_dataloader), len(test_dataloader)"
   ]
  },
  {
   "cell_type": "code",
   "execution_count": 39,
   "metadata": {
    "id": "Y26dkRSRLZsi"
   },
   "outputs": [],
   "source": [
    "text, target= next(iter(train_dataloader))"
   ]
  },
  {
   "cell_type": "code",
   "execution_count": 40,
   "metadata": {
    "colab": {
     "base_uri": "https://localhost:8080/"
    },
    "id": "X1KEYvGILexu",
    "outputId": "b3e108e3-d041-4489-9a4b-106e5dc75dee"
   },
   "outputs": [
    {
     "data": {
      "text/plain": [
       "(torch.Size([32, 1080]), torch.Size([32]))"
      ]
     },
     "execution_count": 40,
     "metadata": {},
     "output_type": "execute_result"
    }
   ],
   "source": [
    "text.shape, target.shape"
   ]
  },
  {
   "cell_type": "code",
   "execution_count": 41,
   "metadata": {
    "colab": {
     "base_uri": "https://localhost:8080/",
     "height": 36
    },
    "id": "rkaKKB_e8y85",
    "outputId": "522453b1-aadf-4814-ea78-06ede1a6273a"
   },
   "outputs": [
    {
     "data": {
      "text/plain": [
       "'cpu'"
      ]
     },
     "execution_count": 41,
     "metadata": {},
     "output_type": "execute_result"
    }
   ],
   "source": [
    "device= 'cuda' if torch.cuda.is_available() else 'cpu'\n",
    "device"
   ]
  },
  {
   "cell_type": "code",
   "execution_count": 42,
   "metadata": {
    "id": "fUbWo4-M8zbQ"
   },
   "outputs": [],
   "source": [
    "model= model.RNN_model()"
   ]
  },
  {
   "cell_type": "code",
   "execution_count": 43,
   "metadata": {
    "colab": {
     "base_uri": "https://localhost:8080/"
    },
    "id": "bMQUuV1Z8zq8",
    "outputId": "d2bda840-01af-4186-ade5-d8089cdb8d46"
   },
   "outputs": [
    {
     "data": {
      "text/plain": [
       "torch.Size([1, 1080])"
      ]
     },
     "execution_count": 43,
     "metadata": {},
     "output_type": "execute_result"
    }
   ],
   "source": [
    "dummy_x= torch.rand(size= [1,1080])\n",
    "dummy_x.shape"
   ]
  },
  {
   "cell_type": "code",
   "execution_count": 44,
   "metadata": {
    "colab": {
     "base_uri": "https://localhost:8080/"
    },
    "id": "ZnvhejXE8z5x",
    "outputId": "2d300e12-0a34-4aff-ff8d-c1f837d5deaa"
   },
   "outputs": [
    {
     "data": {
      "text/plain": [
       "tensor([[-0.1895, -0.0579,  0.3757, -0.4440,  0.0570, -0.2547, -0.1813, -0.2150,\n",
       "         -0.1338,  0.3768,  0.2718,  0.5089, -0.0994, -0.0765,  0.5479,  0.0020,\n",
       "         -0.1554,  0.5284, -0.2748, -0.6376, -0.2916, -0.3078,  0.0533,  0.3709]],\n",
       "       grad_fn=<AddmmBackward0>)"
      ]
     },
     "execution_count": 44,
     "metadata": {},
     "output_type": "execute_result"
    }
   ],
   "source": [
    "model(dummy_x)"
   ]
  },
  {
   "cell_type": "markdown",
   "metadata": {
    "id": "6m0rr8vllcV9"
   },
   "source": [
    "# Train data"
   ]
  },
  {
   "cell_type": "code",
   "execution_count": 45,
   "metadata": {
    "id": "Et9hV_E480JZ"
   },
   "outputs": [],
   "source": [
    "# Import metrics\n",
    "from sklearn.metrics import accuracy_score, f1_score"
   ]
  },
  {
   "cell_type": "code",
   "execution_count": 46,
   "metadata": {
    "id": "xa-GSB6l80V9"
   },
   "outputs": [],
   "source": [
    "# Import loss function and optimizers\n",
    "from torch.nn.modules.loss import CrossEntropyLoss\n",
    "loss_fn= CrossEntropyLoss()\n",
    "optimizer= torch.optim.SGD(model.parameters(), lr= 0.1, weight_decay=0)"
   ]
  },
  {
   "cell_type": "markdown",
   "metadata": {
    "id": "AS3AnXFwm1j5"
   },
   "source": [
    "# Train Model"
   ]
  },
  {
   "cell_type": "code",
   "execution_count": null,
   "metadata": {
    "colab": {
     "base_uri": "https://localhost:8080/"
    },
    "id": "Ppocdsju80iS",
    "outputId": "486d6dfe-d85a-4e29-b939-d189ac518a15"
   },
   "outputs": [
    {
     "name": "stdout",
     "output_type": "stream",
     "text": [
      "\n",
      "Epoch 1/500 | Train loss: 3.17613 | Train Acc: 0.04637 | Test loss: 3.16834 | Test Acc: 0.04928 |\n"
     ]
    }
   ],
   "source": [
    "epoch = 500\n",
    "\n",
    "results = {\n",
    "    \"train_loss\": [],\n",
    "    \"train_accuracy\": [],\n",
    "    \"test_loss\": [],\n",
    "    \"test_accuracy\": []\n",
    "}\n",
    "\n",
    "for i in range(epoch):\n",
    "    train_loss = 0\n",
    "    train_acc = 0\n",
    "    for batch, (X, y) in enumerate(train_dataloader):\n",
    "        X, y = X.to(device), y.to(device)\n",
    "        model.train()  # Set model to train mode\n",
    "\n",
    "        optimizer.zero_grad()\n",
    "\n",
    "        # Forward pass\n",
    "        y_logits = model(X)\n",
    "\n",
    "        # Calculate loss\n",
    "        loss = loss_fn(y_logits, y)\n",
    "        train_loss += loss.item()  # Accumulate training loss\n",
    "\n",
    "        # Predictions\n",
    "        y_preds = torch.argmax(torch.softmax(y_logits, dim=1), dim=1)\n",
    "\n",
    "        # Calculate accuracy for this batch\n",
    "        accuracy = accuracy_score(y.cpu().numpy(), y_preds.cpu().numpy())\n",
    "        train_acc += accuracy\n",
    "\n",
    "        # Backward pass and optimization step\n",
    "        loss.backward()\n",
    "        optimizer.step()\n",
    "\n",
    "    # Average the loss and accuracy over all batches\n",
    "    train_loss /= len(train_dataloader)\n",
    "    train_acc /= len(train_dataloader)\n",
    "\n",
    "    # Initialize test loss and accuracy\n",
    "    test_loss = 0\n",
    "    test_acc = 0\n",
    "\n",
    "    # Evaluation mode\n",
    "    model.eval()\n",
    "    with torch.inference_mode():\n",
    "        for X, y in test_dataloader:\n",
    "            X, y = X.to(device), y.to(device)\n",
    "\n",
    "            # Forward pass\n",
    "            y_logits = model(X)\n",
    "\n",
    "            # Calculate loss\n",
    "            loss = loss_fn(y_logits, y)\n",
    "            test_loss += loss.item()  # Convert to float\n",
    "\n",
    "            # Predictions\n",
    "            test_preds = torch.argmax(torch.softmax(y_logits, dim=1), dim=1)\n",
    "\n",
    "            # Calculate accuracy\n",
    "            accuracy = accuracy_score(y.cpu().numpy(), test_preds.cpu().numpy())\n",
    "            test_acc += accuracy\n",
    "\n",
    "    # Compute the average test loss and accuracy\n",
    "    test_loss = test_loss / len(test_dataloader)  # No in-place update\n",
    "    test_acc = test_acc / len(test_dataloader)  # No in-place update\n",
    "\n",
    "    # Store the results for this epoch\n",
    "    results['train_loss'].append(train_loss)\n",
    "    results['train_accuracy'].append(train_acc)\n",
    "    results['test_loss'].append(test_loss)\n",
    "    results['test_accuracy'].append(test_acc)\n",
    "\n",
    "    if i % 50 == 0:\n",
    "        print(f\"\\nEpoch {i+1}/{epoch} | Train loss: {train_loss:.5f} | Train Acc: {train_acc:.5f} | \"\n",
    "              f\"Test loss: {test_loss:.5f} | Test Acc: {test_acc:.5f} |\")"
   ]
  },
  {
   "cell_type": "code",
   "execution_count": null,
   "metadata": {},
   "outputs": [
    {
     "name": "stdout",
     "output_type": "stream",
     "text": [
      "\n",
      "Final Training Accuracy: 1.00%\n",
      "Final Test Accuracy: 0.99%\n"
     ]
    }
   ],
   "source": [
    "# After the training loop\n",
    "\n",
    "# Calculate final training accuracy\n",
    "final_train_accuracy = results['train_accuracy'][-1]  # Get the last recorded training accuracy\n",
    "final_test_accuracy = results['test_accuracy'][-1]    # Get the last recorded test accuracy\n",
    "\n",
    "print(f\"\\nFinal Training Accuracy: {final_train_accuracy:.2f}%\")\n",
    "print(f\"Final Test Accuracy: {final_test_accuracy:.2f}%\")"
   ]
  },
  {
   "cell_type": "code",
   "execution_count": null,
   "metadata": {},
   "outputs": [
    {
     "data": {
      "image/png": "[encoded data removed]",
      "text/plain": [
       "<Figure size 1000x500 with 1 Axes>"
      ]
     },
     "metadata": {},
     "output_type": "display_data"
    }
   ],
   "source": [
    "import numpy as np\n",
    "import matplotlib.pyplot as plt\n",
    "\n",
    "# Generate learning rates from 0.00 to 0.10\n",
    "learning_rates = np.linspace(0.00, 0.10, num=10)  # 10 points from 0.00 to 0.10\n",
    "\n",
    "# Generate accuracy rates from 0.400 to 0.600\n",
    "# For demonstration, let's assume some arbitrary accuracies that increase with learning rate\n",
    "# You can replace this with your actual accuracy data\n",
    "accuracy_rates = np.linspace(0.400, 0.600, num=10)  # 10 points from 0.400 to 0.600\n",
    "\n",
    "# Plotting the accuracy vs learning rate\n",
    "plt.figure(figsize=(10, 5))\n",
    "plt.plot(learning_rates, accuracy_rates, marker='o', label='Accuracy Rate')\n",
    "plt.xscale('linear')  # Linear scale for learning rates\n",
    "plt.title('Model Accuracy vs Learning Rate')\n",
    "plt.xlabel('Learning Rate')\n",
    "plt.ylabel('Accuracy Rate')\n",
    "plt.xticks(np.round(learning_rates, 2))  # Set x-ticks to the learning rates rounded to 2 decimal places\n",
    "plt.yticks(np.round(accuracy_rates, 3))  # Set y-ticks to the accuracy rates rounded to 3 decimal places\n",
    "plt.grid()\n",
    "plt.legend()\n",
    "plt.show()"
   ]
  },
  {
   "cell_type": "markdown",
   "metadata": {
    "id": "PVg5tmJ8m5oK"
   },
   "source": [
    "# Plot Loss Curve"
   ]
  },
  {
   "cell_type": "code",
   "execution_count": null,
   "metadata": {},
   "outputs": [
    {
     "name": "stdout",
     "output_type": "stream",
     "text": [
      "dict_keys(['train_accuracy', 'test_accuracy'])\n"
     ]
    }
   ],
   "source": [
    "print(results.keys())\n"
   ]
  },
  {
   "cell_type": "code",
   "execution_count": null,
   "metadata": {
    "colab": {
     "base_uri": "https://localhost:8080/",
     "height": 468
    },
    "id": "ruvVWd05808i",
    "outputId": "edbdc8b3-ab06-4c92-a6db-0bac83fdbf8d"
   },
   "outputs": [
    {
     "data": {
      "image/png": "[encoded data removed]",
      "text/plain": [
       "<Figure size 1000x500 with 1 Axes>"
      ]
     },
     "metadata": {},
     "output_type": "display_data"
    }
   ],
   "source": [
    "plt.figure(figsize=(10,5))\n",
    "plt.subplot(1,2,2)\n",
    "plt.plot(results['train_accuracy'], label= 'train')\n",
    "plt.plot(results['test_accuracy'], label= 'test')\n",
    "plt.title('accuracy score for train and test')\n",
    "plt.legend();"
   ]
  },
  {
   "cell_type": "markdown",
   "metadata": {
    "id": "LW-zloram-qS"
   },
   "source": [
    "# Evaluate Model With New Data"
   ]
  },
  {
   "cell_type": "code",
   "execution_count": null,
   "metadata": {
    "id": "udn69qsD-bLp"
   },
   "outputs": [],
   "source": [
    "new_data= 'I have been having burning pain anytime i am peeing, what could be the issue?'"
   ]
  },
  {
   "cell_type": "code",
   "execution_count": null,
   "metadata": {
    "colab": {
     "base_uri": "https://localhost:8080/"
    },
    "id": "fuOiFXhL-bvV",
    "outputId": "80c52b5c-d6ac-4260-a22c-096def5fffbc"
   },
   "outputs": [
    {
     "data": {
      "text/plain": [
       "torch.Size([1, 1080])"
      ]
     },
     "execution_count": 69,
     "metadata": {},
     "output_type": "execute_result"
    }
   ],
   "source": [
    "transformed_new= vectorizer.transform([new_data])\n",
    "transformed_new= torch.tensor(transformed_new.toarray()).to(torch.float32)\n",
    "transformed_new.shape"
   ]
  },
  {
   "cell_type": "code",
   "execution_count": null,
   "metadata": {
    "id": "ZSf_POgB-b8H"
   },
   "outputs": [],
   "source": [
    "model.eval()\n",
    "with torch.inference_mode():\n",
    "  y_logits=model(transformed_new)\n",
    "  test_preds= torch.argmax(torch.softmax(y_logits, dim=1), dim=1)\n",
    "  test_pred= target_dict[test_preds.item()]\n"
   ]
  },
  {
   "cell_type": "code",
   "execution_count": null,
   "metadata": {
    "colab": {
     "base_uri": "https://localhost:8080/"
    },
    "id": "oZBcgT0o-lpY",
    "outputId": "fa552ce8-c8c2-4e0a-c707-7b4e780aaabb"
   },
   "outputs": [
    {
     "name": "stdout",
     "output_type": "stream",
     "text": [
      "based on your symptoms, I believe you are having urinary tract infection\n"
     ]
    }
   ],
   "source": [
    "print(f'based on your symptoms, I believe you are having {test_pred}')"
   ]
  },
  {
   "cell_type": "markdown",
   "metadata": {
    "id": "MnedOUcbnFQV"
   },
   "source": [
    "# Save Model State Dict"
   ]
  },
  {
   "cell_type": "code",
   "execution_count": null,
   "metadata": {
    "id": "f60umq-Z-pC1"
   },
   "outputs": [],
   "source": [
    "from pathlib import Path"
   ]
  },
  {
   "cell_type": "code",
   "execution_count": null,
   "metadata": {
    "id": "Tn467qOG-pRw"
   },
   "outputs": [],
   "source": [
    "target_dir_path = Path('Models')\n",
    "target_dir_path.mkdir(parents=True,\n",
    "                      exist_ok=True)\n",
    "model_path= target_dir_path / 'pretrained_symtom_to_disease_model.pth'\n",
    "torch.save(obj=model.state_dict(),f= model_path)"
   ]
  },
  {
   "cell_type": "code",
   "execution_count": null,
   "metadata": {
    "colab": {
     "base_uri": "https://localhost:8080/"
    },
    "id": "C_jzILVbvNX2",
    "outputId": "7220d1f1-fbd2-47d7-e588-3996d9dae1a7"
   },
   "outputs": [
    {
     "data": {
      "text/plain": [
       "{0: 'Acne',\n",
       " 1: 'Arthritis',\n",
       " 2: 'Bronchial Asthma',\n",
       " 3: 'Cervical spondylosis',\n",
       " 4: 'Chicken pox',\n",
       " 5: 'Common Cold',\n",
       " 6: 'Dengue',\n",
       " 7: 'Dimorphic Hemorrhoids',\n",
       " 8: 'Fungal infection',\n",
       " 9: 'Hypertension',\n",
       " 10: 'Impetigo',\n",
       " 11: 'Jaundice',\n",
       " 12: 'Malaria',\n",
       " 13: 'Migraine',\n",
       " 14: 'Pneumonia',\n",
       " 15: 'Psoriasis',\n",
       " 16: 'Typhoid',\n",
       " 17: 'Varicose Veins',\n",
       " 18: 'allergy',\n",
       " 19: 'diabetes',\n",
       " 20: 'drug reaction',\n",
       " 21: 'gastroesophageal reflux disease',\n",
       " 22: 'peptic ulcer disease',\n",
       " 23: 'urinary tract infection'}"
      ]
     },
     "execution_count": 74,
     "metadata": {},
     "output_type": "execute_result"
    }
   ],
   "source": [
    "target_dict"
   ]
  },
  {
   "cell_type": "markdown",
   "metadata": {
    "id": "d32UI4vnnLSG"
   },
   "source": [
    "# Deploy Model"
   ]
  },
  {
   "cell_type": "code",
   "execution_count": null,
   "metadata": {
    "colab": {
     "base_uri": "https://localhost:8080/",
     "height": 712
    },
    "id": "otWWMGaZLimX",
    "outputId": "f46fbf9a-cc01-467c-f0ed-29d745091c20"
   },
   "outputs": [
    {
     "name": "stderr",
     "output_type": "stream",
     "text": [
      "[nltk_data] Downloading package punkt to\n",
      "[nltk_data]     C:\\Users\\Babbadi_vyas\\AppData\\Roaming\\nltk_data...\n",
      "[nltk_data]   Package punkt is already up-to-date!\n",
      "[nltk_data] Downloading package stopwords to\n",
      "[nltk_data]     C:\\Users\\Babbadi_vyas\\AppData\\Roaming\\nltk_data...\n",
      "[nltk_data]   Package stopwords is already up-to-date!\n",
      "c:\\Users\\Babbadi_vyas\\AppData\\Local\\Programs\\Python\\Python312\\Lib\\site-packages\\sklearn\\feature_extraction\\text.py:523: UserWarning: The parameter 'token_pattern' will not be used since 'tokenizer' is not None'\n",
      "  warnings.warn(\n",
      "c:\\Users\\Babbadi_vyas\\AppData\\Local\\Programs\\Python\\Python312\\Lib\\site-packages\\sklearn\\feature_extraction\\text.py:408: UserWarning: Your stop_words may be inconsistent with your preprocessing. Tokenizing the stop words generated tokens [\"'d\", \"'s\", 'abov', 'ani', 'becaus', 'befor', 'could', 'doe', 'dure', 'might', 'must', \"n't\", 'need', 'onc', 'onli', 'ourselv', 'sha', 'themselv', 'veri', 'whi', 'wo', 'would', 'yourselv'] not in stop_words.\n",
      "  warnings.warn(\n",
      "C:\\Users\\Babbadi_vyas\\AppData\\Local\\Temp\\ipykernel_16332\\2538958757.py:58: FutureWarning: You are using `torch.load` with `weights_only=False` (the current default value), which uses the default pickle module implicitly. It is possible to construct malicious pickle data which will execute arbitrary code during unpickling (See https://github.com/pytorch/pytorch/blob/main/SECURITY.md#untrusted-models for more details). In a future release, the default value for `weights_only` will be flipped to `True`. This limits the functions that could be executed during unpickling. Arbitrary objects will no longer be allowed to be loaded via this mode unless they are explicitly allowlisted by the user via `torch.serialization.add_safe_globals`. We recommend you start setting `weights_only=True` for any use case where you don't have full control of the loaded file. Please open an issue on GitHub for any issues related to this experimental feature.\n",
      "  model.load_state_dict(torch.load(\n"
     ]
    },
    {
     "name": "stdout",
     "output_type": "stream",
     "text": [
      "Running on local URL:  http://127.0.0.1:7860\n",
      "\n",
      "To create a public link, set `share=True` in `launch()`.\n"
     ]
    },
    {
     "data": {
      "text/html": [
       "<div><iframe src=\"http://127.0.0.1:7860/\" width=\"100%\" height=\"500\" allow=\"autoplay; camera; microphone; clipboard-read; clipboard-write;\" frameborder=\"0\" allowfullscreen></iframe></div>"
      ],
      "text/plain": [
       "<IPython.core.display.HTML object>"
      ]
     },
     "metadata": {},
     "output_type": "display_data"
    },
    {
     "data": {
      "text/plain": []
     },
     "execution_count": 1,
     "metadata": {},
     "output_type": "execute_result"
    }
   ],
   "source": [
    "# Import and class names setup\n",
    "import gradio as gr\n",
    "import os\n",
    "import torch\n",
    "import random\n",
    "import nltk_utils\n",
    "import pandas as pd\n",
    "from sklearn.model_selection import train_test_split\n",
    "import time\n",
    "\n",
    "from model import RNN_model\n",
    "from timeit import default_timer as timer\n",
    "from typing import Tuple, Dict\n",
    "\n",
    "# Import data\n",
    "df= pd.read_csv('C:/Users/Babbadi_vyas/Documents/bot/Medical_chatbot/Symptom2Disease.csv')\n",
    "df.drop('Unnamed: 0', axis= 1, inplace= True)\n",
    "\n",
    "# Preprocess data\n",
    "df.drop_duplicates(inplace= True)\n",
    "train_data, test_data= train_test_split(df, test_size=0.15, random_state=42 )\n",
    "\n",
    "# Setup class names\n",
    "class_names= {0: 'Acne',\n",
    "              1: 'Arthritis',\n",
    "              2: 'Bronchial Asthma',\n",
    "              3: 'Cervical spondylosis',\n",
    "              4: 'Chicken pox',\n",
    "              5: 'Common Cold',\n",
    "              6: 'Dengue',\n",
    "              7: 'Dimorphic Hemorrhoids',\n",
    "              8: 'Fungal infection',\n",
    "              9: 'Hypertension',\n",
    "              10: 'Impetigo',\n",
    "              11: 'Jaundice',\n",
    "              12: 'Malaria',\n",
    "              13: 'Migraine',\n",
    "              14: 'Pneumonia',\n",
    "              15: 'Psoriasis',\n",
    "              16: 'Typhoid',\n",
    "              17: 'Varicose Veins',\n",
    "              18: 'allergy',\n",
    "              19: 'diabetes',\n",
    "              20: 'drug reaction',\n",
    "              21: 'gastroesophageal reflux disease',\n",
    "              22: 'peptic ulcer disease',\n",
    "              23: 'urinary tract infection'\n",
    "              }\n",
    "\n",
    "vectorizer= nltk_utils.vectorizer()\n",
    "vectorizer.fit(train_data.text)\n",
    "\n",
    "\n",
    "\n",
    "# Model and transforms preparation\n",
    "model= RNN_model()\n",
    "# Load state dict\n",
    "model.load_state_dict(torch.load(\n",
    "    f= 'C:/Users/Babbadi_vyas/Documents/bot/Medical_chatbot/pretrained_symtom_to_disease_model.pth',\n",
    "    map_location= torch.device('cpu')\n",
    "    )\n",
    ")\n",
    "# Disease Advice\n",
    "disease_advice = {\n",
    "    'Acne': \"Maintain a proper skincare routine, avoid excessive touching of the affected areas, and consider using over-the-counter topical treatments. If severe, consult a dermatologist.\",\n",
    "    'Arthritis': \"Stay active with gentle exercises, manage weight, and consider pain-relief strategies like hot/cold therapy. Consult a rheumatologist for tailored guidance.\",\n",
    "    'Bronchial Asthma': \"Follow prescribed inhaler and medication regimen, avoid triggers like smoke and allergens, and have an asthma action plan. Regular check-ups with a pulmonologist are important.\",\n",
    "    'Cervical spondylosis': \"Maintain good posture, do neck exercises, and use ergonomic support. Physical therapy and pain management techniques might be helpful.\",\n",
    "    'Chicken pox': \"Rest, maintain hygiene, and avoid scratching. Consult a doctor for appropriate antiviral treatment.\",\n",
    "    'Common Cold': \"Get plenty of rest, stay hydrated, and consider over-the-counter remedies for symptom relief. Seek medical attention if symptoms worsen or last long.\",\n",
    "    'Dengue': \"Stay hydrated, rest, and manage fever with acetaminophen. Seek medical care promptly, as dengue can escalate quickly.\",\n",
    "    'Dimorphic Hemorrhoids': \"Follow a high-fiber diet, maintain good hygiene, and consider stool softeners. Consult a doctor if symptoms persist.\",\n",
    "    'Fungal infection': \"Keep the affected area clean and dry, use antifungal creams, and avoid sharing personal items. Consult a dermatologist if it persists.\",\n",
    "    'Hypertension': \"Follow a balanced diet, exercise regularly, reduce salt intake, and take prescribed medications. Regular check-ups with a healthcare provider are important.\",\n",
    "    'Impetigo': \"Keep the affected area clean, use prescribed antibiotics, and avoid close contact. Consult a doctor for proper treatment.\",\n",
    "    'Jaundice': \"Get plenty of rest, maintain hydration, and follow a doctor's advice for diet and medications. Regular monitoring is important.\",\n",
    "    'Malaria': \"Take prescribed antimalarial medications, rest, and manage fever. Seek medical attention for severe cases.\",\n",
    "    'Migraine': \"Identify triggers, manage stress, and consider pain-relief medications. Consult a neurologist for personalized management.\",\n",
    "    'Pneumonia': \"Follow prescribed antibiotics, rest, stay hydrated, and monitor symptoms. Seek immediate medical attention for severe cases.\",\n",
    "    'Psoriasis': \"Moisturize, use prescribed creams, and avoid triggers. Consult a dermatologist for effective management.\",\n",
    "    'Typhoid': \"Take prescribed antibiotics, rest, and stay hydrated. Dietary precautions are important. Consult a doctor for proper treatment.\",\n",
    "    'Varicose Veins': \"Elevate legs, exercise regularly, and wear compression stockings. Consult a vascular specialist for evaluation and treatment options.\",\n",
    "    'allergy': \"Identify triggers, manage exposure, and consider antihistamines. Consult an allergist for comprehensive management.\",\n",
    "    'diabetes': \"Follow a balanced diet, exercise, monitor blood sugar levels, and take prescribed medications. Regular visits to an endocrinologist are essential.\",\n",
    "    'drug reaction': \"Discontinue the suspected medication, seek medical attention if symptoms are severe, and inform healthcare providers about the reaction.\",\n",
    "    'gastroesophageal reflux disease': \"Follow dietary changes, avoid large meals, and consider medications. Consult a doctor for personalized management.\",\n",
    "    'peptic ulcer disease': \"Avoid spicy and acidic foods, take prescribed medications, and manage stress. Consult a gastroenterologist for guidance.\",\n",
    "    'urinary tract infection': \"Stay hydrated, take prescribed antibiotics, and maintain good hygiene. Consult a doctor for appropriate treatment.\"\n",
    "}\n",
    "\n",
    "howto= \"\"\"\n",
    "Currently, the chatbot can WELCOME YOU, PREDICT DISEASE based on your symptoms and SUGGEST POSSIBLE SOLUTIONS AND RECOMENDATIONS.\n",
    "<br><br>\n",
    "Here's a quick guide to get you started:<br><br>\n",
    "<b>How to Start:</b> Simply type your messages in the textbox to chat with the Chatbot and press enter!<br><br>\n",
    "The bot will respond based on the best possible answers to your messages. For now, let's keep it SIMPLE as I'm working hard to enhance its capabilities in the future.\n",
    "\n",
    "\"\"\"\n",
    "\n",
    "\n",
    "# Create the gradio demo\n",
    "with gr.Blocks(css = \"\"\"#col_container { margin-left: auto; margin-right: auto;} #chatbot {height: 520px; overflow: auto;}\"\"\") as demo:\n",
    "  gr.HTML('<h1 align=\"center\">Medical Chatbot</h1>')\n",
    "  with gr.Accordion(\"Follow these Steps to use the Gradio WebUI\", open=True):\n",
    "      gr.HTML(howto)\n",
    "  chatbot = gr.Chatbot()\n",
    "  msg = gr.Textbox()\n",
    "  clear = gr.ClearButton([msg, chatbot])\n",
    "\n",
    "  def respond(message, chat_history):\n",
    "    # Random greetings in list format\n",
    "    greetings = [\n",
    "        \"hello!\",'hello', 'hii !', 'hi', \"hi there!\",  \"hi there!\", \"heyy\", 'good morning', 'good afternoon', 'good evening'\n",
    "        \"hey\", \"how are you\", \"how are you?\", \"how is it going\", \"how is it going?\",\n",
    "        \"what's up?\", \"how are you?\",\n",
    "        \"hey, how are you?\", \"what is popping\"\n",
    "        \"good to see you!\", \"howdy!\",\n",
    "        \"hi, nice to meet you.\", \"hiya!\",\n",
    "        \"hi\", \"hi, what's new?\",\n",
    "        \"hey, how's your day?\", \"hi, how have you been?\", \"greetings\",\n",
    "        ]\n",
    "    # Random Greetings responses\n",
    "    responses = [\n",
    "        \"Thank you for using our medical chatbot. Please provide the symptoms you're experiencing, and I'll do my best to predict the possible disease.\",\n",
    "        \"Hello! I'm here to help you with medical predictions based on your symptoms. Please describe your symptoms in as much detail as possible.\",\n",
    "        \"Greetings! I am a specialized medical chatbot trained to predict potential diseases based on the symptoms you provide. Kindly list your symptoms explicitly.\",\n",
    "        \"Welcome to the medical chatbot. To assist you accurately, please share your symptoms in explicit detail.\",\n",
    "        \"Hi there! I'm a medical chatbot specialized in analyzing symptoms to suggest possible diseases. Please provide your symptoms explicitly.\",\n",
    "        \"Hey! I'm your medical chatbot. Describe your symptoms with as much detail as you can, and I'll generate potential disease predictions.\",\n",
    "        \"How can I assist you today? I'm a medical chatbot trained to predict diseases based on symptoms. Please be explicit while describing your symptoms.\",\n",
    "        \"Hello! I'm a medical chatbot capable of predicting diseases based on the symptoms you provide. Your explicit symptom description will help me assist you better.\",\n",
    "        \"Greetings! I'm here to help with medical predictions. Describe your symptoms explicitly, and I'll offer insights into potential diseases.\",\n",
    "        \"Hi, I'm the medical chatbot. I've been trained to predict diseases from symptoms. The more explicit you are about your symptoms, the better I can assist you.\",\n",
    "        \"Hi, I specialize in medical predictions based on symptoms. Kindly provide detailed symptoms for accurate disease predictions.\",\n",
    "        \"Hello! I'm a medical chatbot with expertise in predicting diseases from symptoms. Please describe your symptoms explicitly to receive accurate insights.\",\n",
    "        ]\n",
    "    # Random goodbyes\n",
    "    goodbyes = [\n",
    "        \"farewell!\",'bye', 'goodbye','good-bye', 'good bye', 'bye', 'thank you', 'later', \"take care!\",\n",
    "        \"see you later!\", 'see you', 'see ya', 'see-you', 'thanks', 'thank', 'bye bye', 'byebye'\n",
    "        \"catch you on the flip side!\", \"adios!\",\n",
    "        \"goodbye for now!\", \"till we meet again!\",\n",
    "        \"so long!\", \"hasta la vista!\",\n",
    "        \"bye-bye!\", \"keep in touch!\",\n",
    "        \"toodles!\", \"ciao!\",\n",
    "        \"later, gator!\", \"stay safe and goodbye!\",\n",
    "        \"peace out!\", \"until next time!\", \"off I go!\",\n",
    "        ]\n",
    "    # Random Goodbyes responses\n",
    "    goodbye_replies = [\n",
    "        \"Take care of yourself! If you have more questions, don't hesitate to reach out.\",\n",
    "        \"Stay well! Remember, I'm here if you need further medical advice.\",\n",
    "        \"Goodbye for now! Don't hesitate to return if you need more information in the future.\",\n",
    "        \"Wishing you good health ahead! Feel free to come back if you have more concerns.\",\n",
    "        \"Farewell! If you have more symptoms or questions, don't hesitate to consult again.\",\n",
    "        \"Take care and stay informed about your health. Feel free to chat anytime.\",\n",
    "        \"Bye for now! Remember, your well-being is a priority. Don't hesitate to ask if needed.\",\n",
    "        \"Have a great day ahead! If you need medical guidance later on, I'll be here.\",\n",
    "        \"Stay well and take it easy! Reach out if you need more medical insights.\",\n",
    "        \"Until next time! Prioritize your health and reach out if you need assistance.\",\n",
    "        \"Goodbye! Your health matters. Feel free to return if you have more health-related queries.\",\n",
    "        \"Stay healthy and stay curious about your health! If you need more info, just ask.\",\n",
    "        \"Wishing you wellness on your journey! If you have more questions, I'm here to help.\",\n",
    "        \"Take care and remember, your health is important. Don't hesitate to reach out if needed.\",\n",
    "        \"Goodbye for now! Stay informed and feel free to consult if you require medical advice.\",\n",
    "        \"Stay well and stay proactive about your health! If you have more queries, feel free to ask.\",\n",
    "        \"Farewell! Remember, I'm here whenever you need reliable medical information.\",\n",
    "        \"Bye for now! Stay vigilant about your health and don't hesitate to return if necessary.\",\n",
    "        \"Take care and keep your well-being a priority! Reach out if you have more health questions.\",\n",
    "        \"Wishing you good health ahead! Don't hesitate to chat if you need medical insights.\",\n",
    "        \"Goodbye! Stay well and remember, I'm here to assist you with medical queries.\",\n",
    "    ]\n",
    "\n",
    "    # Create couple of if-else statements to capture/mimick peoples's Interaction\n",
    "    if message.lower() in greetings:\n",
    "      bot_message= random.choice(responses)\n",
    "    elif message.lower() in goodbyes:\n",
    "      bot_message= random.choice(goodbye_replies)\n",
    "    else:\n",
    "      transform_text= vectorizer.transform([message])\n",
    "      transform_text= torch.tensor(transform_text.toarray()).to(torch.float32)\n",
    "      model.eval()\n",
    "      with torch.inference_mode():\n",
    "        y_logits=model(transform_text)\n",
    "        pred_prob= torch.argmax(torch.softmax(y_logits, dim=1), dim=1)\n",
    "\n",
    "      test_pred= class_names[pred_prob.item()]\n",
    "      bot_message = f' Based on your symptoms, I believe you are having {test_pred} and I would advice you {disease_advice[test_pred]}'\n",
    "    chat_history.append((message, bot_message))\n",
    "    time.sleep(2)\n",
    "    return \"\", chat_history\n",
    "\n",
    "  msg.submit(respond, [msg, chatbot], [msg, chatbot])\n",
    "# Launch the demo\n",
    "demo.launch()\n",
    "\n"
   ]
  }
 ],
 "metadata": {
  "colab": {
   "authorship_tag": "ABX9TyMHvKnYH1nV6+05sjz3ESPf",
   "provenance": []
  },
  "kernelspec": {
   "display_name": "Python 3",
   "name": "python3"
  },
  "language_info": {
   "codemirror_mode": {
    "name": "ipython",
    "version": 3
   },
   "file_extension": ".py",
   "mimetype": "text/x-python",
   "name": "python",
   "nbconvert_exporter": "python",
   "pygments_lexer": "ipython3",
   "version": "3.12.6"
  }
 },
 "nbformat": 4,
 "nbformat_minor": 0
}
